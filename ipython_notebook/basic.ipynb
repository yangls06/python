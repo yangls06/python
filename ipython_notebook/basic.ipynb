{
 "metadata": {
  "name": "",
  "signature": "sha256:6503ee26896c3cc5e6fa94668502754ef64e7578e67561df351861c693f78bcf"
 },
 "nbformat": 3,
 "nbformat_minor": 0,
 "worksheets": [
  {
   "cells": [
    {
     "cell_type": "heading",
     "level": 1,
     "metadata": {},
     "source": [
      "Python Basics"
     ]
    },
    {
     "cell_type": "markdown",
     "metadata": {},
     "source": [
      "\u8fd9\u662fPython\u7684\u57fa\u7840\u7ec3\u4e60\u3002\u4f7f\u7528\u4e86\u5ed6\u96ea\u5cf0\u524d\u8f88\u7684\u6559\u7a0b\uff1ahttp://www.liaoxuefeng.com/wiki/001374738125095c955c1e6d8bb493182103fac9270762a000"
     ]
    },
    {
     "cell_type": "heading",
     "level": 2,
     "metadata": {},
     "source": [
      "hello world"
     ]
    },
    {
     "cell_type": "code",
     "collapsed": false,
     "input": [
      "print \"Hello World!\""
     ],
     "language": "python",
     "metadata": {},
     "outputs": [
      {
       "output_type": "stream",
       "stream": "stdout",
       "text": [
        "Hello World!\n"
       ]
      }
     ],
     "prompt_number": 5
    },
    {
     "cell_type": "heading",
     "level": 2,
     "metadata": {},
     "source": [
      "\u8f93\u51fa"
     ]
    },
    {
     "cell_type": "code",
     "collapsed": false,
     "input": [
      "print 'The quick brown fox', 'jumps over', 'the lazy dog.'"
     ],
     "language": "python",
     "metadata": {},
     "outputs": [
      {
       "output_type": "stream",
       "stream": "stdout",
       "text": [
        "The quick brown fox jumps over the lazy dog.\n"
       ]
      }
     ],
     "prompt_number": 6
    },
    {
     "cell_type": "code",
     "collapsed": false,
     "input": [
      "print 100+200"
     ],
     "language": "python",
     "metadata": {},
     "outputs": [
      {
       "output_type": "stream",
       "stream": "stdout",
       "text": [
        "300\n"
       ]
      }
     ],
     "prompt_number": 7
    },
    {
     "cell_type": "code",
     "collapsed": false,
     "input": [
      "print '100 + 200 =',100+200"
     ],
     "language": "python",
     "metadata": {},
     "outputs": [
      {
       "output_type": "stream",
       "stream": "stdout",
       "text": [
        "100 + 200 = 300\n"
       ]
      }
     ],
     "prompt_number": 8
    },
    {
     "cell_type": "heading",
     "level": 2,
     "metadata": {},
     "source": [
      "\u8f93\u5165"
     ]
    },
    {
     "cell_type": "code",
     "collapsed": false,
     "input": [
      "name = raw_input()"
     ],
     "language": "python",
     "metadata": {},
     "outputs": [
      {
       "name": "stdout",
       "output_type": "stream",
       "stream": "stdout",
       "text": [
        "Andy\n"
       ]
      }
     ],
     "prompt_number": 10
    },
    {
     "cell_type": "code",
     "collapsed": false,
     "input": [
      "print 'Hello', name"
     ],
     "language": "python",
     "metadata": {},
     "outputs": [
      {
       "output_type": "stream",
       "stream": "stdout",
       "text": [
        "Hello Andy\n"
       ]
      }
     ],
     "prompt_number": 12
    },
    {
     "cell_type": "heading",
     "level": 2,
     "metadata": {},
     "source": [
      "\u4ee3\u7801\u98ce\u683c"
     ]
    },
    {
     "cell_type": "code",
     "collapsed": false,
     "input": [
      "# print the absolute value of an integer\n",
      "a = 100\n",
      "if a >= 0:\n",
      "    print a\n",
      "else:\n",
      "    print -a"
     ],
     "language": "python",
     "metadata": {},
     "outputs": [
      {
       "output_type": "stream",
       "stream": "stdout",
       "text": [
        "100\n"
       ]
      }
     ],
     "prompt_number": 14
    },
    {
     "cell_type": "heading",
     "level": 2,
     "metadata": {},
     "source": [
      "\u6570\u636e\u7c7b\u578b"
     ]
    },
    {
     "cell_type": "heading",
     "level": 3,
     "metadata": {},
     "source": [
      "\u6574\u6570"
     ]
    },
    {
     "cell_type": "code",
     "collapsed": false,
     "input": [
      "# \u5341\u8fdb\u5236\n",
      "print 1, 100, -8080, 0"
     ],
     "language": "python",
     "metadata": {},
     "outputs": [
      {
       "output_type": "stream",
       "stream": "stdout",
       "text": [
        "1 100 -8080 0\n"
       ]
      }
     ],
     "prompt_number": 19
    },
    {
     "cell_type": "code",
     "collapsed": false,
     "input": [
      "# \u4e8c\u8fdb\u5236:0b \u516b\u8fdb\u5236:0o \u5341\u516d\u8fdb\u5236:0x\n",
      "print 0b111, 0o111, 0x111"
     ],
     "language": "python",
     "metadata": {},
     "outputs": [
      {
       "output_type": "stream",
       "stream": "stdout",
       "text": [
        "7 73 273\n"
       ]
      }
     ],
     "prompt_number": 21
    },
    {
     "cell_type": "heading",
     "level": 3,
     "metadata": {},
     "source": [
      "\u6d6e\u70b9\u6570"
     ]
    },
    {
     "cell_type": "code",
     "collapsed": false,
     "input": [
      "# \u4e00\u822c\n",
      "print 1.0, 3.1415\n",
      "\n",
      "# \u79d1\u5b66\u8ba1\u6570\u6cd5\n",
      "print 1.2e5, 1.2e-5"
     ],
     "language": "python",
     "metadata": {},
     "outputs": [
      {
       "output_type": "stream",
       "stream": "stdout",
       "text": [
        "1.0 3.1415\n",
        "120000.0 1.2e-05\n"
       ]
      }
     ],
     "prompt_number": 22
    },
    {
     "cell_type": "heading",
     "level": 3,
     "metadata": {},
     "source": [
      "\u5b57\u7b26\u4e32"
     ]
    },
    {
     "cell_type": "code",
     "collapsed": false,
     "input": [
      "print 'Hello', \"World!\"\n",
      "\n",
      "# \u8f6c\u4e49'\\'\n",
      "print \"I'm Andy.\"\n",
      "print 'I\\'m Andy, too.'\n",
      "print \"I'm learning\\nPython.\"\n",
      "\n",
      "# \u7528r''\u8868\u793a\u5bf9\u2018\u2019\u4e2d\u7684\u5b57\u7b26\u4e0d\u8f6c\u4e49\n",
      "print '\\\\\\t\\\\'\n",
      "print r'\\\\\\t\\\\'\n",
      "\n",
      "# \u7528'''...'''\u53ef\u4ee5\u8868\u793a\u591a\u884c\u6587\u672c\n",
      "print '''line1\n",
      "line2\n",
      "line3'''\n"
     ],
     "language": "python",
     "metadata": {},
     "outputs": [
      {
       "output_type": "stream",
       "stream": "stdout",
       "text": [
        "Hello World!\n",
        "I'm Andy.\n",
        "I'm Andy, too.\n",
        "I'm learning\n",
        "Python.\n",
        "\\\t\\\n",
        "\\\\\\t\\\\\n",
        "line1\n",
        "line2\n",
        "line3\n"
       ]
      }
     ],
     "prompt_number": 26
    },
    {
     "cell_type": "heading",
     "level": 3,
     "metadata": {},
     "source": [
      "\u5e03\u5c14\u503c"
     ]
    },
    {
     "cell_type": "code",
     "collapsed": false,
     "input": [
      "print True, False, 3>2, 2>3\n",
      "\n",
      "# and (\u4e0d\u80fd\u7528&&)\n",
      "print True and True\n",
      "print True and False\n",
      "print False and True\n",
      "print False and False\n",
      "\n",
      "# or (\u4e0d\u80fd\u7528||)\n",
      "print True or True\n",
      "print True or False\n",
      "print False or True\n",
      "print False or False\n",
      "\n",
      "# not (\u4e0d\u80fd\u7528!)\n",
      "print not True\n",
      "print not False\n",
      "\n",
      "# \u5e03\u5c14\u8868\u8fbe\u5f0f\u5e38\u5e38\u7528\u5728\u5224\u65ad\u4e2d\n",
      "age = 19\n",
      "if age >= 18:\n",
      "    print 'adult'\n",
      "else:\n",
      "    print 'teenager'"
     ],
     "language": "python",
     "metadata": {},
     "outputs": [
      {
       "output_type": "stream",
       "stream": "stdout",
       "text": [
        "True False True False\n",
        "True\n",
        "False\n",
        "False\n",
        "False\n",
        "True\n",
        "True\n",
        "True\n",
        "False\n",
        "False\n",
        "True\n",
        "adult\n"
       ]
      }
     ],
     "prompt_number": 39
    },
    {
     "cell_type": "heading",
     "level": 3,
     "metadata": {},
     "source": [
      "\u7a7a\u503c"
     ]
    },
    {
     "cell_type": "code",
     "collapsed": false,
     "input": [
      "print None\n",
      "print '' is not None\n",
      "print 0 is not None"
     ],
     "language": "python",
     "metadata": {},
     "outputs": [
      {
       "output_type": "stream",
       "stream": "stdout",
       "text": [
        "None\n",
        "True\n",
        "True\n"
       ]
      }
     ],
     "prompt_number": 45
    },
    {
     "cell_type": "heading",
     "level": 2,
     "metadata": {},
     "source": [
      "\u53d8\u91cf\u548c\u5e38\u91cf"
     ]
    },
    {
     "cell_type": "code",
     "collapsed": false,
     "input": [
      "# \u53d8\u91cf\n",
      "a = 10\n",
      "print a\n",
      "b = a\n",
      "print b\n",
      "a = 'I am Andy.'\n",
      "print a, b\n",
      "\n",
      "#\u5e38\u91cf\n",
      "print 10/3\n",
      "print 10.0/3\n",
      "print 3.1415926"
     ],
     "language": "python",
     "metadata": {},
     "outputs": [
      {
       "output_type": "stream",
       "stream": "stdout",
       "text": [
        "10\n",
        "10\n",
        "I am Andy. 10\n",
        "3\n",
        "3.33333333333\n",
        "3.1415926\n"
       ]
      }
     ],
     "prompt_number": 50
    },
    {
     "cell_type": "heading",
     "level": 2,
     "metadata": {},
     "source": [
      "\u5b57\u7b26\u4e32\u548c\u7f16\u7801"
     ]
    },
    {
     "cell_type": "markdown",
     "metadata": {},
     "source": [
      "![](http://www.liaoxuefeng.com/files/attachments/0013872491802084161ec9ef7d143a897e1584819535656000/0)"
     ]
    },
    {
     "cell_type": "markdown",
     "metadata": {},
     "source": [
      "\u5728\u8ba1\u7b97\u673a\u5185\u5b58\u4e2d\uff0c\u7edf\u4e00\u4f7f\u7528Unicode\u7f16\u7801\uff0c\u5f53\u9700\u8981\u4fdd\u5b58\u5230\u786c\u76d8\u6216\u8005\u9700\u8981\u4f20\u8f93\u7684\u65f6\u5019\uff0c\u5c31\u8f6c\u6362\u4e3aUTF-8\u7f16\u7801\u3002\n",
      "\u7528\u8bb0\u4e8b\u672c\u7f16\u8f91\u7684\u65f6\u5019\uff0c\u4ece\u6587\u4ef6\u8bfb\u53d6\u7684UTF-8\u5b57\u7b26\u88ab\u8f6c\u6362\u4e3aUnicode\u5b57\u7b26\u5230\u5185\u5b58\u91cc\uff0c\u7f16\u8f91\u5b8c\u6210\u540e\uff0c\u4fdd\u5b58\u7684\u65f6\u5019\u518d\u628aUnicode\u8f6c\u6362\u4e3aUTF-8\u4fdd\u5b58\u5230\u6587\u4ef6\uff1a\n",
      "![](http://www.liaoxuefeng.com/files/attachments/001387245992536e2ba28125cf04f5c8985dbc94a02245e000/0)\n",
      "\n",
      "\u6d4f\u89c8\u7f51\u9875\u7684\u65f6\u5019\uff0c\u670d\u52a1\u5668\u4f1a\u628a\u52a8\u6001\u751f\u6210\u7684Unicode\u5185\u5bb9\u8f6c\u6362\u4e3aUTF-8\u518d\u4f20\u8f93\u5230\u6d4f\u89c8\u5668\uff1a\n",
      "![](http://www.liaoxuefeng.com/files/attachments/001387245979827634fd6204f9346a1ae6358d9ed051666000/0)"
     ]
    },
    {
     "cell_type": "code",
     "collapsed": false,
     "input": [
      "# Python\u63d0\u4f9b\u4e86ord()\u548cchr()\u51fd\u6570\uff0c\u53ef\u4ee5\u628a\u5b57\u6bcd\u548c\u5bf9\u5e94\u7684\u6570\u5b57\u76f8\u4e92\u8f6c\u6362\uff1a\n",
      "print ord('A')\n",
      "print chr(65)"
     ],
     "language": "python",
     "metadata": {},
     "outputs": [
      {
       "output_type": "stream",
       "stream": "stdout",
       "text": [
        "65\n",
        "A\n"
       ]
      }
     ],
     "prompt_number": 52
    },
    {
     "cell_type": "code",
     "collapsed": false,
     "input": [
      "# unicode\n",
      "print u'\u4e2d\u56fd'\n",
      "print '\u4e2d\u56fd'\n",
      "u'\u4e2d\u56fd'"
     ],
     "language": "python",
     "metadata": {},
     "outputs": [
      {
       "output_type": "stream",
       "stream": "stdout",
       "text": [
        "\u4e2d\u56fd\n",
        "\u4e2d\u56fd\n"
       ]
      },
      {
       "metadata": {},
       "output_type": "pyout",
       "prompt_number": 55,
       "text": [
        "u'\\u4e2d\\u56fd'"
       ]
      }
     ],
     "prompt_number": 55
    },
    {
     "cell_type": "code",
     "collapsed": false,
     "input": [
      "# encode\u7f16\u7801\n",
      "u'ABC'.encode('utf-8')"
     ],
     "language": "python",
     "metadata": {},
     "outputs": [
      {
       "metadata": {},
       "output_type": "pyout",
       "prompt_number": 60,
       "text": [
        "'ABC'"
       ]
      }
     ],
     "prompt_number": 60
    },
    {
     "cell_type": "code",
     "collapsed": false,
     "input": [
      "u'\u4e2d\u56fd'.encode('utf-8')"
     ],
     "language": "python",
     "metadata": {},
     "outputs": [
      {
       "metadata": {},
       "output_type": "pyout",
       "prompt_number": 61,
       "text": [
        "'\\xe4\\xb8\\xad\\xe5\\x9b\\xbd'"
       ]
      }
     ],
     "prompt_number": 61
    },
    {
     "cell_type": "code",
     "collapsed": false,
     "input": [
      "# \u5b57\u7b26\u4e32\u957f\u5ea6len\n",
      "print len(u'abc')\n",
      "print len(u'\u4e2d\u56fd')\n",
      "print len(u'\u4e2d\u56fd'.encode('utf-8'))"
     ],
     "language": "python",
     "metadata": {},
     "outputs": [
      {
       "output_type": "stream",
       "stream": "stdout",
       "text": [
        "3\n",
        "2\n",
        "6\n"
       ]
      }
     ],
     "prompt_number": 62
    },
    {
     "cell_type": "code",
     "collapsed": false,
     "input": [
      "#decode\u89e3\u7801\n",
      "print u'ABC'.encode('utf-8').decode('utf-8') == u'ABC'\n",
      "u'ABC'.encode('utf-8').decode('utf-8') "
     ],
     "language": "python",
     "metadata": {},
     "outputs": [
      {
       "output_type": "stream",
       "stream": "stdout",
       "text": [
        "True\n"
       ]
      },
      {
       "metadata": {},
       "output_type": "pyout",
       "prompt_number": 66,
       "text": [
        "u'ABC'"
       ]
      }
     ],
     "prompt_number": 66
    },
    {
     "cell_type": "code",
     "collapsed": false,
     "input": [
      "#decode\u89e3\u7801\n",
      "print u'\u4e2d\u56fd'.encode('utf-8').decode('utf-8') == u'\u4e2d\u56fd'\n",
      "u'\u4e2d\u56fd'.encode('utf-8').decode('utf-8')"
     ],
     "language": "python",
     "metadata": {},
     "outputs": [
      {
       "output_type": "stream",
       "stream": "stdout",
       "text": [
        "True\n"
       ]
      },
      {
       "metadata": {},
       "output_type": "pyout",
       "prompt_number": 67,
       "text": [
        "u'\\u4e2d\\u56fd'"
       ]
      }
     ],
     "prompt_number": 67
    },
    {
     "cell_type": "markdown",
     "metadata": {},
     "source": [
      "\u7531\u4e8ePython\u6e90\u4ee3\u7801\u4e5f\u662f\u4e00\u4e2a\u6587\u672c\u6587\u4ef6\uff0c\u6240\u4ee5\uff0c\u5f53\u4f60\u7684\u6e90\u4ee3\u7801\u4e2d\u5305\u542b\u4e2d\u6587\u7684\u65f6\u5019\uff0c\u5728\u4fdd\u5b58\u6e90\u4ee3\u7801\u65f6\uff0c\u5c31\u9700\u8981\u52a1\u5fc5\u6307\u5b9a\u4fdd\u5b58\u4e3aUTF-8\u7f16\u7801\u3002\u5f53Python\u89e3\u91ca\u5668\u8bfb\u53d6\u6e90\u4ee3\u7801\u65f6\uff0c\u4e3a\u4e86\u8ba9\u5b83\u6309UTF-8\u7f16\u7801\u8bfb\u53d6\uff0c\u6211\u4eec\u901a\u5e38\u5728\u6587\u4ef6\u5f00\u5934\u5199\u4e0a\u8fd9\u4e24\u884c\uff1a"
     ]
    },
    {
     "cell_type": "code",
     "collapsed": false,
     "input": [
      "#!/usr/bin/env python\n",
      "# -*- coding: utf-8 -*-"
     ],
     "language": "python",
     "metadata": {},
     "outputs": [],
     "prompt_number": 68
    },
    {
     "cell_type": "markdown",
     "metadata": {},
     "source": [
      "\u7b2c\u4e00\u884c\u6ce8\u91ca\u662f\u4e3a\u4e86\u544a\u8bc9Linux/OS X\u7cfb\u7edf\uff0c\u8fd9\u662f\u4e00\u4e2aPython\u53ef\u6267\u884c\u7a0b\u5e8f\uff0cWindows\u7cfb\u7edf\u4f1a\u5ffd\u7565\u8fd9\u4e2a\u6ce8\u91ca\uff1b\n",
      "\u7b2c\u4e8c\u884c\u6ce8\u91ca\u662f\u4e3a\u4e86\u544a\u8bc9Python\u89e3\u91ca\u5668\uff0c\u6309\u7167UTF-8\u7f16\u7801\u8bfb\u53d6\u6e90\u4ee3\u7801\uff0c\u5426\u5219\uff0c\u4f60\u5728\u6e90\u4ee3\u7801\u4e2d\u5199\u7684\u4e2d\u6587\u8f93\u51fa\u53ef\u80fd\u4f1a\u6709\u4e71\u7801\u3002"
     ]
    },
    {
     "cell_type": "heading",
     "level": 2,
     "metadata": {},
     "source": [
      "\u683c\u5f0f\u5316"
     ]
    },
    {
     "cell_type": "markdown",
     "metadata": {},
     "source": [
      "![](http://www.liaoxuefeng.com/files/attachments/001389579690189985ca83044bd4aa7a80c47f9296a5c4e000/0)"
     ]
    },
    {
     "cell_type": "code",
     "collapsed": false,
     "input": [
      "# \u7528%\u5b9e\u73b0\u683c\u5f0f\u5316\n",
      "print 'Hello %s' %'world'\n",
      "print 'Hi %s, you have $%d.' %('Andy', 10000)\n",
      "\n",
      "# %d  \u6574\u6570\n",
      "# %f  \u6d6e\u70b9\u6570\n",
      "# %s  \u5b57\u7b26\u4e32\n",
      "# %x  \u5341\u516d\u8fdb\u5236\u6570\n",
      "# %%  \u662f%\u7684\u8f6c\u4e49\n",
      "print '%2d-%02d' % (3, 1)\n",
      "print '%.2f' % 3.1415926\n",
      "print 'growth rate: %d %%' % 7"
     ],
     "language": "python",
     "metadata": {},
     "outputs": [
      {
       "output_type": "stream",
       "stream": "stdout",
       "text": [
        "Hello world\n",
        "Hi Andy, you have $10000.\n",
        " 3-01\n",
        "3.14\n",
        "growth rate: 7 %\n"
       ]
      }
     ],
     "prompt_number": 77
    },
    {
     "cell_type": "heading",
     "level": 2,
     "metadata": {},
     "source": [
      "list\u548ctuple"
     ]
    },
    {
     "cell_type": "code",
     "collapsed": false,
     "input": [
      "# list\n",
      "classmates = ['Mike', 'Jane', 'Peter']\n",
      "print classmates\n",
      "\n",
      "# len\n",
      "print 'len(classmates) =' , len(classmates)\n",
      "\n",
      "# []\n",
      "print classmates[0]\n",
      "print classmates[1]\n",
      "print classmates[2]\n",
      "#print classmates[3]\n",
      "\n",
      "print classmates[-1]\n",
      "print classmates[-2]\n",
      "print classmates[-3]\n",
      "\n",
      "# append\n",
      "classmates.append('Bob')\n",
      "print classmates\n",
      "\n",
      "# insert\n",
      "classmates.insert(1, 'Alice')\n",
      "print classmates\n",
      "\n",
      "# pop\n",
      "print classmates.pop()\n",
      "print classmates\n",
      "\n",
      "# remove\n",
      "print classmates.remove('Jane')\n",
      "print classmates\n",
      "\n",
      "# index\n",
      "print classmates.index('Alice')\n",
      "\n",
      "# \u53ef\u4ee5\u662f\u4e0d\u540c\u7684\u7c7b\u578b\n",
      "l = ['123', 456, 2.3]\n",
      "print l\n",
      "\n",
      "# \u53ef\u4ee5\u5d4c\u5957list\n",
      "s = ['python', 'java', ['c', 'c++']]\n",
      "print s\n",
      "\n",
      "t = ['ruby', s, 'lua']\n",
      "print t"
     ],
     "language": "python",
     "metadata": {},
     "outputs": [
      {
       "output_type": "stream",
       "stream": "stdout",
       "text": [
        "['Mike', 'Jane', 'Peter']\n",
        "len(classmates) = 3\n",
        "Mike\n",
        "Jane\n",
        "Peter\n",
        "Peter\n",
        "Jane\n",
        "Mike\n",
        "['Mike', 'Jane', 'Peter', 'Bob']\n",
        "['Mike', 'Alice', 'Jane', 'Peter', 'Bob']\n",
        "Bob\n",
        "['Mike', 'Alice', 'Jane', 'Peter']\n",
        "None\n",
        "['Mike', 'Alice', 'Peter']\n",
        "1\n",
        "['123', 456, 2.3]\n",
        "['python', 'java', ['c', 'c++']]\n",
        "['ruby', ['python', 'java', ['c', 'c++']], 'lua']\n"
       ]
      }
     ],
     "prompt_number": 97
    },
    {
     "cell_type": "code",
     "collapsed": false,
     "input": [
      "# \u53e6\u4e00\u79cd\u6709\u5e8f\u5217\u8868\u53eb\u5143\u7ec4\uff1atuple\u3002tuple\u548clist\u975e\u5e38\u7c7b\u4f3c\uff0c\u4f46\u662ftuple\u4e00\u65e6\u521d\u59cb\u5316\u5c31\u4e0d\u80fd\u4fee\u6539\uff0c\u6ca1\u6709append()\uff0cinsert()\u8fd9\u6837\u7684\u65b9\u6cd5\n",
      "c = ('Mike', 'Bob')\n",
      "print c\n",
      "c.append('Alice')"
     ],
     "language": "python",
     "metadata": {},
     "outputs": [
      {
       "output_type": "stream",
       "stream": "stdout",
       "text": [
        "('Mike', 'Bob')\n"
       ]
      },
      {
       "ename": "AttributeError",
       "evalue": "'tuple' object has no attribute 'append'",
       "output_type": "pyerr",
       "traceback": [
        "\u001b[0;31m---------------------------------------------------------------------------\u001b[0m\n\u001b[0;31mAttributeError\u001b[0m                            Traceback (most recent call last)",
        "\u001b[0;32m<ipython-input-98-30ee6ae3f624>\u001b[0m in \u001b[0;36m<module>\u001b[0;34m()\u001b[0m\n\u001b[1;32m      2\u001b[0m \u001b[0mc\u001b[0m \u001b[0;34m=\u001b[0m \u001b[0;34m(\u001b[0m\u001b[0;34m'Mike'\u001b[0m\u001b[0;34m,\u001b[0m \u001b[0;34m'Bob'\u001b[0m\u001b[0;34m)\u001b[0m\u001b[0;34m\u001b[0m\u001b[0m\n\u001b[1;32m      3\u001b[0m \u001b[0;32mprint\u001b[0m \u001b[0mc\u001b[0m\u001b[0;34m\u001b[0m\u001b[0m\n\u001b[0;32m----> 4\u001b[0;31m \u001b[0mc\u001b[0m\u001b[0;34m.\u001b[0m\u001b[0mappend\u001b[0m\u001b[0;34m(\u001b[0m\u001b[0;34m'Alice'\u001b[0m\u001b[0;34m)\u001b[0m\u001b[0;34m\u001b[0m\u001b[0m\n\u001b[0m",
        "\u001b[0;31mAttributeError\u001b[0m: 'tuple' object has no attribute 'append'"
       ]
      }
     ],
     "prompt_number": 98
    },
    {
     "cell_type": "code",
     "collapsed": false,
     "input": [
      "# \u8981\u5b9a\u4e49\u4e00\u4e2a\u53ea\u67091\u4e2a\u5143\u7d20\u7684tuple, \u4e0d\u80fd(1) \u800c\u662f\u8981(1, )\n",
      "t = (1)\n",
      "print t\n",
      "t = (1, )\n",
      "print t"
     ],
     "language": "python",
     "metadata": {},
     "outputs": [
      {
       "output_type": "stream",
       "stream": "stdout",
       "text": [
        "1\n",
        "(1,)\n"
       ]
      }
     ],
     "prompt_number": 99
    },
    {
     "cell_type": "code",
     "collapsed": false,
     "input": [
      "# \u5982\u679ctuple\u7684\u5143\u7d20\u662flist\uff0c\u90a3\u4e48\u8fd9\u4e2alist\u4e2d\u7684\u5143\u7d20\u662f\u53ef\u4ee5\u6539\u53d8\u7684\u3002\u56e0\u6b64tuple\u7684\u4e0d\u53d8\u6027\uff0c\u53ea\u662f\u5f15\u7528\u7684\u4e0d\u53d8\u6027\n",
      "t = ('a', 'b', 'c', [1, 2, 3])\n",
      "print t\n",
      "\n",
      "t[3][0] = 4\n",
      "t[3][1] = 5\n",
      "t[3][2] = 6\n",
      "print t\n",
      "\n",
      "t[3].pop()\n",
      "print t"
     ],
     "language": "python",
     "metadata": {},
     "outputs": [
      {
       "output_type": "stream",
       "stream": "stdout",
       "text": [
        "('a', 'b', 'c', [1, 2, 3])\n",
        "('a', 'b', 'c', [4, 5, 6])\n",
        "('a', 'b', 'c', [4, 5])\n"
       ]
      }
     ],
     "prompt_number": 103
    },
    {
     "cell_type": "heading",
     "level": 2,
     "metadata": {},
     "source": [
      "\u6761\u4ef6\u5224\u65ad"
     ]
    },
    {
     "cell_type": "code",
     "collapsed": false,
     "input": [
      "age = 3\n",
      "if age >= 18:\n",
      "    print 'adult'\n",
      "elif age >= 6:\n",
      "    print 'teenager'\n",
      "else:\n",
      "    print 'kid'"
     ],
     "language": "python",
     "metadata": {},
     "outputs": [
      {
       "output_type": "stream",
       "stream": "stdout",
       "text": [
        "kid\n"
       ]
      }
     ],
     "prompt_number": 104
    },
    {
     "cell_type": "heading",
     "level": 2,
     "metadata": {},
     "source": [
      "\u5faa\u73af"
     ]
    },
    {
     "cell_type": "code",
     "collapsed": false,
     "input": [
      "# for\n",
      "names = ['Alice', 'Bob', 'Cindy']\n",
      "for name in names:\n",
      "    print name\n",
      "\n",
      "# range(stop), range(start, stop), range(start, stop, step)\n",
      "# start <= x < stop\n",
      "print range(5)\n",
      "print range(1, 10)\n",
      "print range(1, 10, 3)\n",
      "\n",
      "sum = 0\n",
      "for x in range(0, 101):\n",
      "    sum += x\n",
      "print x, sum\n",
      "\n",
      "# while\n",
      "sum = 0\n",
      "n = 99\n",
      "while n > 0:\n",
      "    sum = sum + n\n",
      "    n = n - 2\n",
      "print sum"
     ],
     "language": "python",
     "metadata": {},
     "outputs": [
      {
       "output_type": "stream",
       "stream": "stdout",
       "text": [
        "Alice\n",
        "Bob\n",
        "Cindy\n",
        "[0, 1, 2, 3, 4]\n",
        "[1, 2, 3, 4, 5, 6, 7, 8, 9]\n",
        "[1, 4, 7]\n",
        "100 5050\n",
        "2500\n"
       ]
      }
     ],
     "prompt_number": 113
    },
    {
     "cell_type": "heading",
     "level": 2,
     "metadata": {},
     "source": [
      "raw_input"
     ]
    },
    {
     "cell_type": "code",
     "collapsed": false,
     "input": [
      "birth = raw_input('birth: ')\n",
      "if birth < 2000:\n",
      "    print '00\u524d'\n",
      "else:\n",
      "    print '00\u540e'"
     ],
     "language": "python",
     "metadata": {},
     "outputs": [
      {
       "name": "stdout",
       "output_type": "stream",
       "stream": "stdout",
       "text": [
        "birth: 1985\n"
       ]
      },
      {
       "output_type": "stream",
       "stream": "stdout",
       "text": [
        "00\u540e\n"
       ]
      }
     ],
     "prompt_number": 114
    },
    {
     "cell_type": "code",
     "collapsed": false,
     "input": [
      "birth = int(raw_input('birth: '))\n",
      "if birth < 2000:\n",
      "    print '00\u524d'\n",
      "else:\n",
      "    print '00\u540e'"
     ],
     "language": "python",
     "metadata": {},
     "outputs": [
      {
       "name": "stdout",
       "output_type": "stream",
       "stream": "stdout",
       "text": [
        "birth: 1985\n"
       ]
      },
      {
       "output_type": "stream",
       "stream": "stdout",
       "text": [
        "00\u524d\n"
       ]
      }
     ],
     "prompt_number": 115
    },
    {
     "cell_type": "heading",
     "level": 2,
     "metadata": {},
     "source": [
      "dict"
     ]
    },
    {
     "cell_type": "markdown",
     "metadata": {},
     "source": [
      "dict\u662fpython\u4e2d\u8868\u793amap\u5173\u7cfb\u7684\u6570\u636e\u7ed3\u6784\u3002"
     ]
    },
    {
     "cell_type": "code",
     "collapsed": false,
     "input": [
      "# names and scores using list\n",
      "names = ['Alice', 'Bob', 'Cindy']\n",
      "scores = [90, 75, 83]\n",
      "print \"names:\", names\n",
      "print \"scores:\", scores\n",
      "\n",
      "# using dict\n",
      "kv = {'Alice':90, 'Bob':75, 'Cindy':83}\n",
      "print kv\n",
      "print \"The score of Alice is\", kv['Alice']\n",
      "\n",
      "kv['Dave'] = 67\n",
      "print kv['Dave']\n",
      "\n",
      "# \u7528[]\u8bbf\u95ee\u4e0d\u5b58\u5728\u7684key\uff0c\u4f1a\u629b\u51fa\u5f02\u5e38\n",
      "print kv['Helen']"
     ],
     "language": "python",
     "metadata": {},
     "outputs": [
      {
       "output_type": "stream",
       "stream": "stdout",
       "text": [
        "names: ['Alice', 'Bob', 'Cindy']\n",
        "scores: [90, 75, 83]\n",
        "{'Bob': 75, 'Alice': 90, 'Cindy': 83}\n",
        "The score of Alice is 90\n",
        "67\n"
       ]
      },
      {
       "ename": "KeyError",
       "evalue": "'Helen'",
       "output_type": "pyerr",
       "traceback": [
        "\u001b[0;31m---------------------------------------------------------------------------\u001b[0m\n\u001b[0;31mKeyError\u001b[0m                                  Traceback (most recent call last)",
        "\u001b[0;32m<ipython-input-6-d25545b43f3a>\u001b[0m in \u001b[0;36m<module>\u001b[0;34m()\u001b[0m\n\u001b[1;32m     13\u001b[0m \u001b[0;32mprint\u001b[0m \u001b[0mkv\u001b[0m\u001b[0;34m[\u001b[0m\u001b[0;34m'Dave'\u001b[0m\u001b[0;34m]\u001b[0m\u001b[0;34m\u001b[0m\u001b[0m\n\u001b[1;32m     14\u001b[0m \u001b[0;34m\u001b[0m\u001b[0m\n\u001b[0;32m---> 15\u001b[0;31m \u001b[0;32mprint\u001b[0m \u001b[0mkv\u001b[0m\u001b[0;34m[\u001b[0m\u001b[0;34m'Helen'\u001b[0m\u001b[0;34m]\u001b[0m\u001b[0;34m\u001b[0m\u001b[0m\n\u001b[0m",
        "\u001b[0;31mKeyError\u001b[0m: 'Helen'"
       ]
      }
     ],
     "prompt_number": 6
    },
    {
     "cell_type": "code",
     "collapsed": false,
     "input": [
      "# \u53ef\u4ee5\u7528get\u8bbf\u95ee\uff0c\u4e0d\u7eaf\u5728\u7684key\n",
      "print kv.get('Helen')\n",
      "print kv.get('Helen') == None\n",
      "\n",
      "# \u8fd8\u80fd\u6307\u5b9a\u4e00\u4e2a\u5982\u679ckey\u4e0d\u5b58\u5728\u65f6\u8fd4\u56de\u7684\u9ed8\u8ba4\u503c\n",
      "print kv.get('Helen', -1)\n",
      "\n",
      "# \u53ef\u4ee5\u7528in\u6765\u5224\u65adkey\u662f\u5426\u5b58\u5728\n",
      "print 'Helen' in kv\n",
      "print 'Bob' in kv\n",
      "\n",
      "# \u53ef\u4ee5\u7528pop\u5220\u9664\u4e00\u4e2akey\n",
      "#print kv.pop('Bob')\n",
      "print 'Helen' in kv\n",
      "print 'Bob' in kv\n",
      "\n",
      "if 'Bob' in kv:\n",
      "    kv.pop('Bob')\n",
      "print kv"
     ],
     "language": "python",
     "metadata": {},
     "outputs": [
      {
       "output_type": "stream",
       "stream": "stdout",
       "text": [
        "None\n",
        "True\n",
        "-1\n",
        "False\n",
        "False\n",
        "False\n",
        "False\n",
        "{'Alice': 90, 'Cindy': 83, 'Dave': 67}\n"
       ]
      }
     ],
     "prompt_number": 18
    },
    {
     "cell_type": "heading",
     "level": 2,
     "metadata": {},
     "source": [
      "set"
     ]
    },
    {
     "cell_type": "markdown",
     "metadata": {},
     "source": [
      "\u96c6\u5408\uff0c\u4fdd\u5b58\u4e0d\u91cd\u590d\u7684\u5143\u7d20\u3002\u5176\u5b9e\u662f\u6ca1\u6709value\u7684\uff08\u6216\u8005\u53ef\u4ee5\u8ba4\u4e3a\u662fvalue\u90fd\u4e00\u6837\u7684\uff09**dict**"
     ]
    },
    {
     "cell_type": "code",
     "collapsed": false,
     "input": [
      "# \u521b\u5efa\u4e00\u4e2aset\uff0c\u8981\u4f20\u5165\u4e00\u4e2alist\u4f5c\u4e3a\u53c2\u6570\n",
      "s = set()\n",
      "print s\n",
      "s = set([])\n",
      "print s\n",
      "s = set([1,2,3])\n",
      "print s"
     ],
     "language": "python",
     "metadata": {},
     "outputs": [
      {
       "output_type": "stream",
       "stream": "stdout",
       "text": [
        "set([])\n",
        "set([])\n",
        "set([1, 2, 3])\n"
       ]
      }
     ],
     "prompt_number": 25
    },
    {
     "cell_type": "code",
     "collapsed": false,
     "input": [
      "# set\u53ef\u4ee5\u53bb\u91cd\n",
      "s = set([1, 2, 3, 4, 5, 5, 4, 3, 2, 1])\n",
      "print s"
     ],
     "language": "python",
     "metadata": {},
     "outputs": [
      {
       "output_type": "stream",
       "stream": "stdout",
       "text": [
        "set([1, 2, 3, 4, 5])\n"
       ]
      }
     ],
     "prompt_number": 27
    },
    {
     "cell_type": "code",
     "collapsed": false,
     "input": [
      "# add: \u6dfb\u52a0\u5143\u7d20\n",
      "s.add('abc')\n",
      "print s\n",
      "\n",
      "# remove: \u5220\u9664\u5143\u7d20\n",
      "s.remove('abc')\n",
      "print s\n",
      "\n",
      "s.remove('1')"
     ],
     "language": "python",
     "metadata": {},
     "outputs": [
      {
       "output_type": "stream",
       "stream": "stdout",
       "text": [
        "set([1, 2, 3, 4, 5, 'abc'])\n",
        "set([1, 2, 3, 4, 5])\n"
       ]
      },
      {
       "ename": "KeyError",
       "evalue": "'1'",
       "output_type": "pyerr",
       "traceback": [
        "\u001b[0;31m---------------------------------------------------------------------------\u001b[0m\n\u001b[0;31mKeyError\u001b[0m                                  Traceback (most recent call last)",
        "\u001b[0;32m<ipython-input-31-d9272c241d66>\u001b[0m in \u001b[0;36m<module>\u001b[0;34m()\u001b[0m\n\u001b[1;32m      7\u001b[0m \u001b[0;32mprint\u001b[0m \u001b[0ms\u001b[0m\u001b[0;34m\u001b[0m\u001b[0m\n\u001b[1;32m      8\u001b[0m \u001b[0;34m\u001b[0m\u001b[0m\n\u001b[0;32m----> 9\u001b[0;31m \u001b[0ms\u001b[0m\u001b[0;34m.\u001b[0m\u001b[0mremove\u001b[0m\u001b[0;34m(\u001b[0m\u001b[0;34m'1'\u001b[0m\u001b[0;34m)\u001b[0m\u001b[0;34m\u001b[0m\u001b[0m\n\u001b[0m",
        "\u001b[0;31mKeyError\u001b[0m: '1'"
       ]
      }
     ],
     "prompt_number": 31
    },
    {
     "cell_type": "code",
     "collapsed": false,
     "input": [
      "# \u53ef\u4ee5\u53d6\u4ea4\u96c6\u548c\u5e76\u96c6\n",
      "s1 = set([1,2,3])\n",
      "s2 = set([3,4,5])\n",
      "print 's1:', s1\n",
      "print 's2:', s2\n",
      "print 's1 & s2:', s1 & s2\n",
      "print 's1 | s2:', s1 | s2"
     ],
     "language": "python",
     "metadata": {},
     "outputs": [
      {
       "output_type": "stream",
       "stream": "stdout",
       "text": [
        "s1: set([1, 2, 3])\n",
        "s2: set([3, 4, 5])\n",
        "s1 & s2: set([3])\n",
        "s1 | s2: set([1, 2, 3, 4, 5])\n"
       ]
      }
     ],
     "prompt_number": 35
    },
    {
     "cell_type": "heading",
     "level": 2,
     "metadata": {},
     "source": [
      "\u4e0d\u53ef\u53d8\u5bf9\u8c61"
     ]
    },
    {
     "cell_type": "code",
     "collapsed": false,
     "input": [
      "# \u53ef\u53d8\u5bf9\u8c61\n",
      "a = ['b','a','c']\n",
      "print a\n",
      "\n",
      "a.sort()\n",
      "print a\n",
      "\n",
      "# \u4e0d\u53ef\u53d8\u5bf9\u8c61\n",
      "a = 'abc'\n",
      "print a\n",
      "\n",
      "a.replace('a', '\u4e2d')\n",
      "print a\n",
      "\n",
      "a = 'abc'\n",
      "print a\n",
      "\n",
      "b = a.replace('a', '\u4e2d')\n",
      "print a\n",
      "\n",
      "# tuple as a element: YES\n",
      "s = set([1, 2, 3])\n",
      "print s\n",
      "\n",
      "s.add(('a', 'b', 'c'))\n",
      "print s\n",
      "\n",
      "# list as a element: NO\n",
      "# TypeError: unhashable type: 'list'\n",
      "s.add(['a', 'b', 'c'])\n",
      "print s"
     ],
     "language": "python",
     "metadata": {},
     "outputs": [
      {
       "output_type": "stream",
       "stream": "stdout",
       "text": [
        "['b', 'a', 'c']\n",
        "['a', 'b', 'c']\n",
        "abc\n",
        "abc\n",
        "abc\n",
        "abc\n",
        "set([1, 2, 3])\n",
        "set([1, 2, 3, ('a', 'b', 'c')])\n"
       ]
      },
      {
       "ename": "TypeError",
       "evalue": "unhashable type: 'list'",
       "output_type": "pyerr",
       "traceback": [
        "\u001b[0;31m---------------------------------------------------------------------------\u001b[0m\n\u001b[0;31mTypeError\u001b[0m                                 Traceback (most recent call last)",
        "\u001b[0;32m<ipython-input-50-273a342419f3>\u001b[0m in \u001b[0;36m<module>\u001b[0;34m()\u001b[0m\n\u001b[1;32m     28\u001b[0m \u001b[0;31m# list as a element: NO\u001b[0m\u001b[0;34m\u001b[0m\u001b[0;34m\u001b[0m\u001b[0m\n\u001b[1;32m     29\u001b[0m \u001b[0;31m# TypeError: unhashable type: 'list'\u001b[0m\u001b[0;34m\u001b[0m\u001b[0;34m\u001b[0m\u001b[0m\n\u001b[0;32m---> 30\u001b[0;31m \u001b[0ms\u001b[0m\u001b[0;34m.\u001b[0m\u001b[0madd\u001b[0m\u001b[0;34m(\u001b[0m\u001b[0;34m[\u001b[0m\u001b[0;34m'a'\u001b[0m\u001b[0;34m,\u001b[0m \u001b[0;34m'b'\u001b[0m\u001b[0;34m,\u001b[0m \u001b[0;34m'c'\u001b[0m\u001b[0;34m]\u001b[0m\u001b[0;34m)\u001b[0m\u001b[0;34m\u001b[0m\u001b[0m\n\u001b[0m\u001b[1;32m     31\u001b[0m \u001b[0;32mprint\u001b[0m \u001b[0ms\u001b[0m\u001b[0;34m\u001b[0m\u001b[0m\n",
        "\u001b[0;31mTypeError\u001b[0m: unhashable type: 'list'"
       ]
      }
     ],
     "prompt_number": 50
    },
    {
     "cell_type": "heading",
     "level": 2,
     "metadata": {},
     "source": [
      "\u51fd\u6570"
     ]
    },
    {
     "cell_type": "code",
     "collapsed": false,
     "input": [
      "# def\u5b9a\u4e49\u51fd\u6570\n",
      "def my_abs(x):\n",
      "    if x>=0:\n",
      "        return x\n",
      "    else:\n",
      "        return -x\n",
      "\n",
      "print my_abs(-2)\n",
      "\n",
      "# \u7a7a\u51fd\u6570\n",
      "def nop():\n",
      "    pass\n",
      "\n",
      "print nop()"
     ],
     "language": "python",
     "metadata": {},
     "outputs": [
      {
       "output_type": "stream",
       "stream": "stdout",
       "text": [
        "2\n",
        "None\n"
       ]
      }
     ],
     "prompt_number": 52
    },
    {
     "cell_type": "code",
     "collapsed": false,
     "input": [
      "# \u6570\u636e\u7c7b\u578b\u68c0\u67e5isinstance\n",
      "#print my_abs('ABC') # \u51fa\u6765\u7684\u5c45\u7136\u662f'ABC'\n",
      "\n",
      "def my_abs(x):\n",
      "    if not isinstance(x, (int, float)):\n",
      "        raise TypeError('Bad operand type')\n",
      "    if x>=0:\n",
      "        return x\n",
      "    else:\n",
      "        return -x\n",
      "\n",
      "print my_abs(-3.14)\n",
      "print my_abs('-3.14')"
     ],
     "language": "python",
     "metadata": {},
     "outputs": [
      {
       "output_type": "stream",
       "stream": "stdout",
       "text": [
        "3.14\n"
       ]
      },
      {
       "ename": "TypeError",
       "evalue": "Bad operand type",
       "output_type": "pyerr",
       "traceback": [
        "\u001b[0;31m---------------------------------------------------------------------------\u001b[0m\n\u001b[0;31mTypeError\u001b[0m                                 Traceback (most recent call last)",
        "\u001b[0;32m<ipython-input-56-a729c253f4c2>\u001b[0m in \u001b[0;36m<module>\u001b[0;34m()\u001b[0m\n\u001b[1;32m     11\u001b[0m \u001b[0;34m\u001b[0m\u001b[0m\n\u001b[1;32m     12\u001b[0m \u001b[0;32mprint\u001b[0m \u001b[0mmy_abs\u001b[0m\u001b[0;34m(\u001b[0m\u001b[0;34m-\u001b[0m\u001b[0;36m3.14\u001b[0m\u001b[0;34m)\u001b[0m\u001b[0;34m\u001b[0m\u001b[0m\n\u001b[0;32m---> 13\u001b[0;31m \u001b[0;32mprint\u001b[0m \u001b[0mmy_abs\u001b[0m\u001b[0;34m(\u001b[0m\u001b[0;34m'-3.14'\u001b[0m\u001b[0;34m)\u001b[0m\u001b[0;34m\u001b[0m\u001b[0m\n\u001b[0m",
        "\u001b[0;32m<ipython-input-56-a729c253f4c2>\u001b[0m in \u001b[0;36mmy_abs\u001b[0;34m(x)\u001b[0m\n\u001b[1;32m      4\u001b[0m \u001b[0;32mdef\u001b[0m \u001b[0mmy_abs\u001b[0m\u001b[0;34m(\u001b[0m\u001b[0mx\u001b[0m\u001b[0;34m)\u001b[0m\u001b[0;34m:\u001b[0m\u001b[0;34m\u001b[0m\u001b[0m\n\u001b[1;32m      5\u001b[0m     \u001b[0;32mif\u001b[0m \u001b[0;32mnot\u001b[0m \u001b[0misinstance\u001b[0m\u001b[0;34m(\u001b[0m\u001b[0mx\u001b[0m\u001b[0;34m,\u001b[0m \u001b[0;34m(\u001b[0m\u001b[0mint\u001b[0m\u001b[0;34m,\u001b[0m \u001b[0mfloat\u001b[0m\u001b[0;34m)\u001b[0m\u001b[0;34m)\u001b[0m\u001b[0;34m:\u001b[0m\u001b[0;34m\u001b[0m\u001b[0m\n\u001b[0;32m----> 6\u001b[0;31m         \u001b[0;32mraise\u001b[0m \u001b[0mTypeError\u001b[0m\u001b[0;34m(\u001b[0m\u001b[0;34m'Bad operand type'\u001b[0m\u001b[0;34m)\u001b[0m\u001b[0;34m\u001b[0m\u001b[0m\n\u001b[0m\u001b[1;32m      7\u001b[0m     \u001b[0;32mif\u001b[0m \u001b[0mx\u001b[0m\u001b[0;34m>=\u001b[0m\u001b[0;36m0\u001b[0m\u001b[0;34m:\u001b[0m\u001b[0;34m\u001b[0m\u001b[0m\n\u001b[1;32m      8\u001b[0m         \u001b[0;32mreturn\u001b[0m \u001b[0mx\u001b[0m\u001b[0;34m\u001b[0m\u001b[0m\n",
        "\u001b[0;31mTypeError\u001b[0m: Bad operand type"
       ]
      }
     ],
     "prompt_number": 56
    },
    {
     "cell_type": "code",
     "collapsed": false,
     "input": [
      "# \u8fd4\u56de\u591a\u4e2a\u503c\uff0c\u5176\u5b9e\u8fd4\u56de\u7684\u662f\u4e00\u4e2atuple\n",
      "import math\n",
      "\n",
      "def move(x, y, step, angle=0):\n",
      "    nx = x + step * math.cos(angle)\n",
      "    ny = y - step * math.sin(angle)\n",
      "    return nx, ny\n",
      "\n",
      "x, y = move(100, 100, 60, math.pi/6)\n",
      "print x, y\n",
      "\n",
      "pos = move(100, 100, 30, math.pi/6)\n",
      "print pos"
     ],
     "language": "python",
     "metadata": {},
     "outputs": [
      {
       "output_type": "stream",
       "stream": "stdout",
       "text": [
        "151.961524227 70.0\n",
        "(125.98076211353316, 85.0)\n"
       ]
      }
     ],
     "prompt_number": 60
    },
    {
     "cell_type": "code",
     "collapsed": false,
     "input": [],
     "language": "python",
     "metadata": {},
     "outputs": []
    }
   ],
   "metadata": {}
  }
 ]
}