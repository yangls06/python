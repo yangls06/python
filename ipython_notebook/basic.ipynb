{
 "metadata": {
  "name": "",
  "signature": "sha256:aa7aa64b25b5b424dab14c93b03cb69d1f1c301e31cec08ae46f383d20b92487"
 },
 "nbformat": 3,
 "nbformat_minor": 0,
 "worksheets": [
  {
   "cells": [
    {
     "cell_type": "heading",
     "level": 1,
     "metadata": {},
     "source": [
      "Python Basics"
     ]
    },
    {
     "cell_type": "markdown",
     "metadata": {},
     "source": [
      "\u8fd9\u662fPython\u7684\u57fa\u7840\u7ec3\u4e60\u3002\u4f7f\u7528\u4e86\u5ed6\u96ea\u5cf0\u524d\u8f88\u7684\u6559\u7a0b\uff1ahttp://www.liaoxuefeng.com/wiki/001374738125095c955c1e6d8bb493182103fac9270762a000"
     ]
    },
    {
     "cell_type": "heading",
     "level": 2,
     "metadata": {},
     "source": [
      "hello world"
     ]
    },
    {
     "cell_type": "code",
     "collapsed": false,
     "input": [
      "print \"Hello World!\""
     ],
     "language": "python",
     "metadata": {},
     "outputs": [
      {
       "output_type": "stream",
       "stream": "stdout",
       "text": [
        "Hello World!\n"
       ]
      }
     ],
     "prompt_number": 5
    },
    {
     "cell_type": "heading",
     "level": 2,
     "metadata": {},
     "source": [
      "\u8f93\u51fa"
     ]
    },
    {
     "cell_type": "code",
     "collapsed": false,
     "input": [
      "print 'The quick brown fox', 'jumps over', 'the lazy dog.'"
     ],
     "language": "python",
     "metadata": {},
     "outputs": [
      {
       "output_type": "stream",
       "stream": "stdout",
       "text": [
        "The quick brown fox jumps over the lazy dog.\n"
       ]
      }
     ],
     "prompt_number": 6
    },
    {
     "cell_type": "code",
     "collapsed": false,
     "input": [
      "print 100+200"
     ],
     "language": "python",
     "metadata": {},
     "outputs": [
      {
       "output_type": "stream",
       "stream": "stdout",
       "text": [
        "300\n"
       ]
      }
     ],
     "prompt_number": 7
    },
    {
     "cell_type": "code",
     "collapsed": false,
     "input": [
      "print '100 + 200 =',100+200"
     ],
     "language": "python",
     "metadata": {},
     "outputs": [
      {
       "output_type": "stream",
       "stream": "stdout",
       "text": [
        "100 + 200 = 300\n"
       ]
      }
     ],
     "prompt_number": 8
    },
    {
     "cell_type": "heading",
     "level": 2,
     "metadata": {},
     "source": [
      "\u8f93\u5165"
     ]
    },
    {
     "cell_type": "code",
     "collapsed": false,
     "input": [
      "name = raw_input()"
     ],
     "language": "python",
     "metadata": {},
     "outputs": [
      {
       "name": "stdout",
       "output_type": "stream",
       "stream": "stdout",
       "text": [
        "Andy\n"
       ]
      }
     ],
     "prompt_number": 10
    },
    {
     "cell_type": "code",
     "collapsed": false,
     "input": [
      "print 'Hello', name"
     ],
     "language": "python",
     "metadata": {},
     "outputs": [
      {
       "output_type": "stream",
       "stream": "stdout",
       "text": [
        "Hello Andy\n"
       ]
      }
     ],
     "prompt_number": 12
    },
    {
     "cell_type": "heading",
     "level": 2,
     "metadata": {},
     "source": [
      "\u4ee3\u7801\u98ce\u683c"
     ]
    },
    {
     "cell_type": "code",
     "collapsed": false,
     "input": [
      "# print the absolute value of an integer\n",
      "a = 100\n",
      "if a >= 0:\n",
      "    print a\n",
      "else:\n",
      "    print -a"
     ],
     "language": "python",
     "metadata": {},
     "outputs": [
      {
       "output_type": "stream",
       "stream": "stdout",
       "text": [
        "100\n"
       ]
      }
     ],
     "prompt_number": 14
    },
    {
     "cell_type": "heading",
     "level": 2,
     "metadata": {},
     "source": [
      "\u6570\u636e\u7c7b\u578b"
     ]
    },
    {
     "cell_type": "heading",
     "level": 3,
     "metadata": {},
     "source": [
      "\u6574\u6570"
     ]
    },
    {
     "cell_type": "code",
     "collapsed": false,
     "input": [
      "# \u5341\u8fdb\u5236\n",
      "print 1, 100, -8080, 0"
     ],
     "language": "python",
     "metadata": {},
     "outputs": [
      {
       "output_type": "stream",
       "stream": "stdout",
       "text": [
        "1 100 -8080 0\n"
       ]
      }
     ],
     "prompt_number": 19
    },
    {
     "cell_type": "code",
     "collapsed": false,
     "input": [
      "# \u4e8c\u8fdb\u5236:0b \u516b\u8fdb\u5236:0o \u5341\u516d\u8fdb\u5236:0x\n",
      "print 0b111, 0o111, 0x111"
     ],
     "language": "python",
     "metadata": {},
     "outputs": [
      {
       "output_type": "stream",
       "stream": "stdout",
       "text": [
        "7 73 273\n"
       ]
      }
     ],
     "prompt_number": 21
    },
    {
     "cell_type": "heading",
     "level": 3,
     "metadata": {},
     "source": [
      "\u6d6e\u70b9\u6570"
     ]
    },
    {
     "cell_type": "code",
     "collapsed": false,
     "input": [
      "# \u4e00\u822c\n",
      "print 1.0, 3.1415\n",
      "\n",
      "# \u79d1\u5b66\u8ba1\u6570\u6cd5\n",
      "print 1.2e5, 1.2e-5"
     ],
     "language": "python",
     "metadata": {},
     "outputs": [
      {
       "output_type": "stream",
       "stream": "stdout",
       "text": [
        "1.0 3.1415\n",
        "120000.0 1.2e-05\n"
       ]
      }
     ],
     "prompt_number": 22
    },
    {
     "cell_type": "heading",
     "level": 3,
     "metadata": {},
     "source": [
      "\u5b57\u7b26\u4e32"
     ]
    },
    {
     "cell_type": "code",
     "collapsed": false,
     "input": [
      "print 'Hello', \"World!\"\n",
      "\n",
      "# \u8f6c\u4e49'\\'\n",
      "print \"I'm Andy.\"\n",
      "print 'I\\'m Andy, too.'\n",
      "print \"I'm learning\\nPython.\"\n",
      "\n",
      "# \u7528r''\u8868\u793a\u5bf9\u2018\u2019\u4e2d\u7684\u5b57\u7b26\u4e0d\u8f6c\u4e49\n",
      "print '\\\\\\t\\\\'\n",
      "print r'\\\\\\t\\\\'\n",
      "\n",
      "# \u7528'''...'''\u53ef\u4ee5\u8868\u793a\u591a\u884c\u6587\u672c\n",
      "print '''line1\n",
      "line2\n",
      "line3'''\n"
     ],
     "language": "python",
     "metadata": {},
     "outputs": [
      {
       "output_type": "stream",
       "stream": "stdout",
       "text": [
        "Hello World!\n",
        "I'm Andy.\n",
        "I'm Andy, too.\n",
        "I'm learning\n",
        "Python.\n",
        "\\\t\\\n",
        "\\\\\\t\\\\\n",
        "line1\n",
        "line2\n",
        "line3\n"
       ]
      }
     ],
     "prompt_number": 26
    },
    {
     "cell_type": "heading",
     "level": 3,
     "metadata": {},
     "source": [
      "\u5e03\u5c14\u503c"
     ]
    },
    {
     "cell_type": "code",
     "collapsed": false,
     "input": [
      "print True, False, 3>2, 2>3\n",
      "\n",
      "# and (\u4e0d\u80fd\u7528&&)\n",
      "print True and True\n",
      "print True and False\n",
      "print False and True\n",
      "print False and False\n",
      "\n",
      "# or (\u4e0d\u80fd\u7528||)\n",
      "print True or True\n",
      "print True or False\n",
      "print False or True\n",
      "print False or False\n",
      "\n",
      "# not (\u4e0d\u80fd\u7528!)\n",
      "print not True\n",
      "print not False\n",
      "\n",
      "# \u5e03\u5c14\u8868\u8fbe\u5f0f\u5e38\u5e38\u7528\u5728\u5224\u65ad\u4e2d\n",
      "age = 19\n",
      "if age >= 18:\n",
      "    print 'adult'\n",
      "else:\n",
      "    print 'teenager'"
     ],
     "language": "python",
     "metadata": {},
     "outputs": [
      {
       "output_type": "stream",
       "stream": "stdout",
       "text": [
        "True False True False\n",
        "True\n",
        "False\n",
        "False\n",
        "False\n",
        "True\n",
        "True\n",
        "True\n",
        "False\n",
        "False\n",
        "True\n",
        "adult\n"
       ]
      }
     ],
     "prompt_number": 39
    },
    {
     "cell_type": "heading",
     "level": 3,
     "metadata": {},
     "source": [
      "\u7a7a\u503c"
     ]
    },
    {
     "cell_type": "code",
     "collapsed": false,
     "input": [
      "print None\n",
      "print '' is not None\n",
      "print 0 is not None"
     ],
     "language": "python",
     "metadata": {},
     "outputs": [
      {
       "output_type": "stream",
       "stream": "stdout",
       "text": [
        "None\n",
        "True\n",
        "True\n"
       ]
      }
     ],
     "prompt_number": 45
    },
    {
     "cell_type": "heading",
     "level": 2,
     "metadata": {},
     "source": [
      "\u53d8\u91cf\u548c\u5e38\u91cf"
     ]
    },
    {
     "cell_type": "code",
     "collapsed": false,
     "input": [
      "# \u53d8\u91cf\n",
      "a = 10\n",
      "print a\n",
      "b = a\n",
      "print b\n",
      "a = 'I am Andy.'\n",
      "print a, b\n",
      "\n",
      "#\u5e38\u91cf\n",
      "print 10/3\n",
      "print 10.0/3\n",
      "print 3.1415926"
     ],
     "language": "python",
     "metadata": {},
     "outputs": [
      {
       "output_type": "stream",
       "stream": "stdout",
       "text": [
        "10\n",
        "10\n",
        "I am Andy. 10\n",
        "3\n",
        "3.33333333333\n",
        "3.1415926\n"
       ]
      }
     ],
     "prompt_number": 50
    },
    {
     "cell_type": "heading",
     "level": 2,
     "metadata": {},
     "source": [
      "\u5b57\u7b26\u4e32\u548c\u7f16\u7801"
     ]
    },
    {
     "cell_type": "markdown",
     "metadata": {},
     "source": [
      "![](http://www.liaoxuefeng.com/files/attachments/0013872491802084161ec9ef7d143a897e1584819535656000/0)"
     ]
    },
    {
     "cell_type": "markdown",
     "metadata": {},
     "source": [
      "\u5728\u8ba1\u7b97\u673a\u5185\u5b58\u4e2d\uff0c\u7edf\u4e00\u4f7f\u7528Unicode\u7f16\u7801\uff0c\u5f53\u9700\u8981\u4fdd\u5b58\u5230\u786c\u76d8\u6216\u8005\u9700\u8981\u4f20\u8f93\u7684\u65f6\u5019\uff0c\u5c31\u8f6c\u6362\u4e3aUTF-8\u7f16\u7801\u3002\n",
      "\u7528\u8bb0\u4e8b\u672c\u7f16\u8f91\u7684\u65f6\u5019\uff0c\u4ece\u6587\u4ef6\u8bfb\u53d6\u7684UTF-8\u5b57\u7b26\u88ab\u8f6c\u6362\u4e3aUnicode\u5b57\u7b26\u5230\u5185\u5b58\u91cc\uff0c\u7f16\u8f91\u5b8c\u6210\u540e\uff0c\u4fdd\u5b58\u7684\u65f6\u5019\u518d\u628aUnicode\u8f6c\u6362\u4e3aUTF-8\u4fdd\u5b58\u5230\u6587\u4ef6\uff1a\n",
      "![](http://www.liaoxuefeng.com/files/attachments/001387245992536e2ba28125cf04f5c8985dbc94a02245e000/0)\n",
      "\n",
      "\u6d4f\u89c8\u7f51\u9875\u7684\u65f6\u5019\uff0c\u670d\u52a1\u5668\u4f1a\u628a\u52a8\u6001\u751f\u6210\u7684Unicode\u5185\u5bb9\u8f6c\u6362\u4e3aUTF-8\u518d\u4f20\u8f93\u5230\u6d4f\u89c8\u5668\uff1a\n",
      "![](http://www.liaoxuefeng.com/files/attachments/001387245979827634fd6204f9346a1ae6358d9ed051666000/0)"
     ]
    },
    {
     "cell_type": "code",
     "collapsed": false,
     "input": [
      "# Python\u63d0\u4f9b\u4e86ord()\u548cchr()\u51fd\u6570\uff0c\u53ef\u4ee5\u628a\u5b57\u6bcd\u548c\u5bf9\u5e94\u7684\u6570\u5b57\u76f8\u4e92\u8f6c\u6362\uff1a\n",
      "print ord('A')\n",
      "print chr(65)"
     ],
     "language": "python",
     "metadata": {},
     "outputs": [
      {
       "output_type": "stream",
       "stream": "stdout",
       "text": [
        "65\n",
        "A\n"
       ]
      }
     ],
     "prompt_number": 52
    },
    {
     "cell_type": "code",
     "collapsed": false,
     "input": [
      "# unicode\n",
      "print u'\u4e2d\u56fd'\n",
      "print '\u4e2d\u56fd'\n",
      "u'\u4e2d\u56fd'"
     ],
     "language": "python",
     "metadata": {},
     "outputs": [
      {
       "output_type": "stream",
       "stream": "stdout",
       "text": [
        "\u4e2d\u56fd\n",
        "\u4e2d\u56fd\n"
       ]
      },
      {
       "metadata": {},
       "output_type": "pyout",
       "prompt_number": 55,
       "text": [
        "u'\\u4e2d\\u56fd'"
       ]
      }
     ],
     "prompt_number": 55
    },
    {
     "cell_type": "code",
     "collapsed": false,
     "input": [
      "# encode\u7f16\u7801\n",
      "u'ABC'.encode('utf-8')"
     ],
     "language": "python",
     "metadata": {},
     "outputs": [
      {
       "metadata": {},
       "output_type": "pyout",
       "prompt_number": 60,
       "text": [
        "'ABC'"
       ]
      }
     ],
     "prompt_number": 60
    },
    {
     "cell_type": "code",
     "collapsed": false,
     "input": [
      "u'\u4e2d\u56fd'.encode('utf-8')"
     ],
     "language": "python",
     "metadata": {},
     "outputs": [
      {
       "metadata": {},
       "output_type": "pyout",
       "prompt_number": 61,
       "text": [
        "'\\xe4\\xb8\\xad\\xe5\\x9b\\xbd'"
       ]
      }
     ],
     "prompt_number": 61
    },
    {
     "cell_type": "code",
     "collapsed": false,
     "input": [
      "# \u5b57\u7b26\u4e32\u957f\u5ea6len\n",
      "print len(u'abc')\n",
      "print len(u'\u4e2d\u56fd')\n",
      "print len(u'\u4e2d\u56fd'.encode('utf-8'))"
     ],
     "language": "python",
     "metadata": {},
     "outputs": [
      {
       "output_type": "stream",
       "stream": "stdout",
       "text": [
        "3\n",
        "2\n",
        "6\n"
       ]
      }
     ],
     "prompt_number": 62
    },
    {
     "cell_type": "code",
     "collapsed": false,
     "input": [
      "#decode\u89e3\u7801\n",
      "print u'ABC'.encode('utf-8').decode('utf-8') == u'ABC'\n",
      "u'ABC'.encode('utf-8').decode('utf-8') "
     ],
     "language": "python",
     "metadata": {},
     "outputs": [
      {
       "output_type": "stream",
       "stream": "stdout",
       "text": [
        "True\n"
       ]
      },
      {
       "metadata": {},
       "output_type": "pyout",
       "prompt_number": 66,
       "text": [
        "u'ABC'"
       ]
      }
     ],
     "prompt_number": 66
    },
    {
     "cell_type": "code",
     "collapsed": false,
     "input": [
      "#decode\u89e3\u7801\n",
      "print u'\u4e2d\u56fd'.encode('utf-8').decode('utf-8') == u'\u4e2d\u56fd'\n",
      "u'\u4e2d\u56fd'.encode('utf-8').decode('utf-8')"
     ],
     "language": "python",
     "metadata": {},
     "outputs": [
      {
       "output_type": "stream",
       "stream": "stdout",
       "text": [
        "True\n"
       ]
      },
      {
       "metadata": {},
       "output_type": "pyout",
       "prompt_number": 67,
       "text": [
        "u'\\u4e2d\\u56fd'"
       ]
      }
     ],
     "prompt_number": 67
    },
    {
     "cell_type": "markdown",
     "metadata": {},
     "source": [
      "\u7531\u4e8ePython\u6e90\u4ee3\u7801\u4e5f\u662f\u4e00\u4e2a\u6587\u672c\u6587\u4ef6\uff0c\u6240\u4ee5\uff0c\u5f53\u4f60\u7684\u6e90\u4ee3\u7801\u4e2d\u5305\u542b\u4e2d\u6587\u7684\u65f6\u5019\uff0c\u5728\u4fdd\u5b58\u6e90\u4ee3\u7801\u65f6\uff0c\u5c31\u9700\u8981\u52a1\u5fc5\u6307\u5b9a\u4fdd\u5b58\u4e3aUTF-8\u7f16\u7801\u3002\u5f53Python\u89e3\u91ca\u5668\u8bfb\u53d6\u6e90\u4ee3\u7801\u65f6\uff0c\u4e3a\u4e86\u8ba9\u5b83\u6309UTF-8\u7f16\u7801\u8bfb\u53d6\uff0c\u6211\u4eec\u901a\u5e38\u5728\u6587\u4ef6\u5f00\u5934\u5199\u4e0a\u8fd9\u4e24\u884c\uff1a"
     ]
    },
    {
     "cell_type": "code",
     "collapsed": false,
     "input": [
      "#!/usr/bin/env python\n",
      "# -*- coding: utf-8 -*-"
     ],
     "language": "python",
     "metadata": {},
     "outputs": [],
     "prompt_number": 68
    },
    {
     "cell_type": "markdown",
     "metadata": {},
     "source": [
      "\u7b2c\u4e00\u884c\u6ce8\u91ca\u662f\u4e3a\u4e86\u544a\u8bc9Linux/OS X\u7cfb\u7edf\uff0c\u8fd9\u662f\u4e00\u4e2aPython\u53ef\u6267\u884c\u7a0b\u5e8f\uff0cWindows\u7cfb\u7edf\u4f1a\u5ffd\u7565\u8fd9\u4e2a\u6ce8\u91ca\uff1b\n",
      "\u7b2c\u4e8c\u884c\u6ce8\u91ca\u662f\u4e3a\u4e86\u544a\u8bc9Python\u89e3\u91ca\u5668\uff0c\u6309\u7167UTF-8\u7f16\u7801\u8bfb\u53d6\u6e90\u4ee3\u7801\uff0c\u5426\u5219\uff0c\u4f60\u5728\u6e90\u4ee3\u7801\u4e2d\u5199\u7684\u4e2d\u6587\u8f93\u51fa\u53ef\u80fd\u4f1a\u6709\u4e71\u7801\u3002"
     ]
    },
    {
     "cell_type": "heading",
     "level": 2,
     "metadata": {},
     "source": [
      "\u683c\u5f0f\u5316"
     ]
    },
    {
     "cell_type": "markdown",
     "metadata": {},
     "source": [
      "![](http://www.liaoxuefeng.com/files/attachments/001389579690189985ca83044bd4aa7a80c47f9296a5c4e000/0)"
     ]
    },
    {
     "cell_type": "code",
     "collapsed": false,
     "input": [
      "# \u7528%\u5b9e\u73b0\u683c\u5f0f\u5316\n",
      "print 'Hello %s' %'world'\n",
      "print 'Hi %s, you have $%d.' %('Andy', 10000)\n",
      "\n",
      "# %d  \u6574\u6570\n",
      "# %f  \u6d6e\u70b9\u6570\n",
      "# %s  \u5b57\u7b26\u4e32\n",
      "# %x  \u5341\u516d\u8fdb\u5236\u6570\n",
      "# %%  \u662f%\u7684\u8f6c\u4e49\n",
      "print '%2d-%02d' % (3, 1)\n",
      "print '%.2f' % 3.1415926\n",
      "print 'growth rate: %d %%' % 7"
     ],
     "language": "python",
     "metadata": {},
     "outputs": [
      {
       "output_type": "stream",
       "stream": "stdout",
       "text": [
        "Hello world\n",
        "Hi Andy, you have $10000.\n",
        " 3-01\n",
        "3.14\n",
        "growth rate: 7 %\n"
       ]
      }
     ],
     "prompt_number": 77
    },
    {
     "cell_type": "heading",
     "level": 2,
     "metadata": {},
     "source": [
      "list\u548ctuple"
     ]
    },
    {
     "cell_type": "code",
     "collapsed": false,
     "input": [
      "# list\n",
      "classmates = ['Mike', 'Jane', 'Peter']\n",
      "print classmates\n",
      "\n",
      "# len\n",
      "print 'len(classmates) =' , len(classmates)\n",
      "\n",
      "# []\n",
      "print classmates[0]\n",
      "print classmates[1]\n",
      "print classmates[2]\n",
      "#print classmates[3]\n",
      "\n",
      "print classmates[-1]\n",
      "print classmates[-2]\n",
      "print classmates[-3]\n",
      "\n",
      "# append\n",
      "classmates.append('Bob')\n",
      "print classmates\n",
      "\n",
      "# insert\n",
      "classmates.insert(1, 'Alice')\n",
      "print classmates\n",
      "\n",
      "# pop\n",
      "print classmates.pop()\n",
      "print classmates\n",
      "\n",
      "# remove\n",
      "print classmates.remove('Jane')\n",
      "print classmates\n",
      "\n",
      "# index\n",
      "print classmates.index('Alice')\n",
      "\n",
      "# \u53ef\u4ee5\u662f\u4e0d\u540c\u7684\u7c7b\u578b\n",
      "l = ['123', 456, 2.3]\n",
      "print l\n",
      "\n",
      "# \u53ef\u4ee5\u5d4c\u5957list\n",
      "s = ['python', 'java', ['c', 'c++']]\n",
      "print s\n",
      "\n",
      "t = ['ruby', s, 'lua']\n",
      "print t"
     ],
     "language": "python",
     "metadata": {},
     "outputs": [
      {
       "output_type": "stream",
       "stream": "stdout",
       "text": [
        "['Mike', 'Jane', 'Peter']\n",
        "len(classmates) = 3\n",
        "Mike\n",
        "Jane\n",
        "Peter\n",
        "Peter\n",
        "Jane\n",
        "Mike\n",
        "['Mike', 'Jane', 'Peter', 'Bob']\n",
        "['Mike', 'Alice', 'Jane', 'Peter', 'Bob']\n",
        "Bob\n",
        "['Mike', 'Alice', 'Jane', 'Peter']\n",
        "None\n",
        "['Mike', 'Alice', 'Peter']\n",
        "1\n",
        "['123', 456, 2.3]\n",
        "['python', 'java', ['c', 'c++']]\n",
        "['ruby', ['python', 'java', ['c', 'c++']], 'lua']\n"
       ]
      }
     ],
     "prompt_number": 97
    },
    {
     "cell_type": "code",
     "collapsed": false,
     "input": [
      "# \u53e6\u4e00\u79cd\u6709\u5e8f\u5217\u8868\u53eb\u5143\u7ec4\uff1atuple\u3002tuple\u548clist\u975e\u5e38\u7c7b\u4f3c\uff0c\u4f46\u662ftuple\u4e00\u65e6\u521d\u59cb\u5316\u5c31\u4e0d\u80fd\u4fee\u6539\uff0c\u6ca1\u6709append()\uff0cinsert()\u8fd9\u6837\u7684\u65b9\u6cd5\n",
      "c = ('Mike', 'Bob')\n",
      "print c\n",
      "c.append('Alice')"
     ],
     "language": "python",
     "metadata": {},
     "outputs": [
      {
       "output_type": "stream",
       "stream": "stdout",
       "text": [
        "('Mike', 'Bob')\n"
       ]
      },
      {
       "ename": "AttributeError",
       "evalue": "'tuple' object has no attribute 'append'",
       "output_type": "pyerr",
       "traceback": [
        "\u001b[0;31m---------------------------------------------------------------------------\u001b[0m\n\u001b[0;31mAttributeError\u001b[0m                            Traceback (most recent call last)",
        "\u001b[0;32m<ipython-input-98-30ee6ae3f624>\u001b[0m in \u001b[0;36m<module>\u001b[0;34m()\u001b[0m\n\u001b[1;32m      2\u001b[0m \u001b[0mc\u001b[0m \u001b[0;34m=\u001b[0m \u001b[0;34m(\u001b[0m\u001b[0;34m'Mike'\u001b[0m\u001b[0;34m,\u001b[0m \u001b[0;34m'Bob'\u001b[0m\u001b[0;34m)\u001b[0m\u001b[0;34m\u001b[0m\u001b[0m\n\u001b[1;32m      3\u001b[0m \u001b[0;32mprint\u001b[0m \u001b[0mc\u001b[0m\u001b[0;34m\u001b[0m\u001b[0m\n\u001b[0;32m----> 4\u001b[0;31m \u001b[0mc\u001b[0m\u001b[0;34m.\u001b[0m\u001b[0mappend\u001b[0m\u001b[0;34m(\u001b[0m\u001b[0;34m'Alice'\u001b[0m\u001b[0;34m)\u001b[0m\u001b[0;34m\u001b[0m\u001b[0m\n\u001b[0m",
        "\u001b[0;31mAttributeError\u001b[0m: 'tuple' object has no attribute 'append'"
       ]
      }
     ],
     "prompt_number": 98
    },
    {
     "cell_type": "code",
     "collapsed": false,
     "input": [
      "# \u8981\u5b9a\u4e49\u4e00\u4e2a\u53ea\u67091\u4e2a\u5143\u7d20\u7684tuple, \u4e0d\u80fd(1) \u800c\u662f\u8981(1, )\n",
      "t = (1)\n",
      "print t\n",
      "t = (1, )\n",
      "print t"
     ],
     "language": "python",
     "metadata": {},
     "outputs": [
      {
       "output_type": "stream",
       "stream": "stdout",
       "text": [
        "1\n",
        "(1,)\n"
       ]
      }
     ],
     "prompt_number": 99
    },
    {
     "cell_type": "code",
     "collapsed": false,
     "input": [
      "# \u5982\u679ctuple\u7684\u5143\u7d20\u662flist\uff0c\u90a3\u4e48\u8fd9\u4e2alist\u4e2d\u7684\u5143\u7d20\u662f\u53ef\u4ee5\u6539\u53d8\u7684\u3002\u56e0\u6b64tuple\u7684\u4e0d\u53d8\u6027\uff0c\u53ea\u662f\u5f15\u7528\u7684\u4e0d\u53d8\u6027\n",
      "t = ('a', 'b', 'c', [1, 2, 3])\n",
      "print t\n",
      "\n",
      "t[3][0] = 4\n",
      "t[3][1] = 5\n",
      "t[3][2] = 6\n",
      "print t\n",
      "\n",
      "t[3].pop()\n",
      "print t"
     ],
     "language": "python",
     "metadata": {},
     "outputs": [
      {
       "output_type": "stream",
       "stream": "stdout",
       "text": [
        "('a', 'b', 'c', [1, 2, 3])\n",
        "('a', 'b', 'c', [4, 5, 6])\n",
        "('a', 'b', 'c', [4, 5])\n"
       ]
      }
     ],
     "prompt_number": 103
    },
    {
     "cell_type": "heading",
     "level": 2,
     "metadata": {},
     "source": [
      "\u6761\u4ef6\u5224\u65ad"
     ]
    },
    {
     "cell_type": "code",
     "collapsed": false,
     "input": [
      "age = 3\n",
      "if age >= 18:\n",
      "    print 'adult'\n",
      "elif age >= 6:\n",
      "    print 'teenager'\n",
      "else:\n",
      "    print 'kid'"
     ],
     "language": "python",
     "metadata": {},
     "outputs": [
      {
       "output_type": "stream",
       "stream": "stdout",
       "text": [
        "kid\n"
       ]
      }
     ],
     "prompt_number": 104
    },
    {
     "cell_type": "heading",
     "level": 2,
     "metadata": {},
     "source": [
      "\u5faa\u73af"
     ]
    },
    {
     "cell_type": "code",
     "collapsed": false,
     "input": [
      "# for\n",
      "names = ['Alice', 'Bob', 'Cindy']\n",
      "for name in names:\n",
      "    print name\n",
      "\n",
      "# range(stop), range(start, stop), range(start, stop, step)\n",
      "# start <= x < stop\n",
      "print range(5)\n",
      "print range(1, 10)\n",
      "print range(1, 10, 3)\n",
      "\n",
      "sum = 0\n",
      "for x in range(0, 101):\n",
      "    sum += x\n",
      "print x, sum\n",
      "\n",
      "# while\n",
      "sum = 0\n",
      "n = 99\n",
      "while n > 0:\n",
      "    sum = sum + n\n",
      "    n = n - 2\n",
      "print sum"
     ],
     "language": "python",
     "metadata": {},
     "outputs": [
      {
       "output_type": "stream",
       "stream": "stdout",
       "text": [
        "Alice\n",
        "Bob\n",
        "Cindy\n",
        "[0, 1, 2, 3, 4]\n",
        "[1, 2, 3, 4, 5, 6, 7, 8, 9]\n",
        "[1, 4, 7]\n",
        "100 5050\n",
        "2500\n"
       ]
      }
     ],
     "prompt_number": 113
    },
    {
     "cell_type": "heading",
     "level": 2,
     "metadata": {},
     "source": [
      "raw_input"
     ]
    },
    {
     "cell_type": "code",
     "collapsed": false,
     "input": [
      "birth = raw_input('birth: ')\n",
      "if birth < 2000:\n",
      "    print '00\u524d'\n",
      "else:\n",
      "    print '00\u540e'"
     ],
     "language": "python",
     "metadata": {},
     "outputs": [
      {
       "name": "stdout",
       "output_type": "stream",
       "stream": "stdout",
       "text": [
        "birth: 1985\n"
       ]
      },
      {
       "output_type": "stream",
       "stream": "stdout",
       "text": [
        "00\u540e\n"
       ]
      }
     ],
     "prompt_number": 114
    },
    {
     "cell_type": "code",
     "collapsed": false,
     "input": [
      "birth = int(raw_input('birth: '))\n",
      "if birth < 2000:\n",
      "    print '00\u524d'\n",
      "else:\n",
      "    print '00\u540e'"
     ],
     "language": "python",
     "metadata": {},
     "outputs": [
      {
       "name": "stdout",
       "output_type": "stream",
       "stream": "stdout",
       "text": [
        "birth: 1985\n"
       ]
      },
      {
       "output_type": "stream",
       "stream": "stdout",
       "text": [
        "00\u524d\n"
       ]
      }
     ],
     "prompt_number": 115
    },
    {
     "cell_type": "heading",
     "level": 2,
     "metadata": {},
     "source": [
      "dict"
     ]
    },
    {
     "cell_type": "markdown",
     "metadata": {},
     "source": [
      "dict\u662fpython\u4e2d\u8868\u793amap\u5173\u7cfb\u7684\u6570\u636e\u7ed3\u6784\u3002"
     ]
    },
    {
     "cell_type": "code",
     "collapsed": false,
     "input": [
      "# names and scores using list\n",
      "names = ['Alice', 'Bob', 'Cindy']\n",
      "scores = [90, 75, 83]\n",
      "print \"names:\", names\n",
      "print \"scores:\", scores\n",
      "\n",
      "# using dict\n",
      "kv = {'Alice':90, 'Bob':75, 'Cindy':83}\n",
      "print kv\n",
      "print \"The score of Alice is\", kv['Alice']\n",
      "\n",
      "kv['Dave'] = 67\n",
      "print kv['Dave']\n",
      "\n",
      "# \u7528[]\u8bbf\u95ee\u4e0d\u5b58\u5728\u7684key\uff0c\u4f1a\u629b\u51fa\u5f02\u5e38\n",
      "print kv['Helen']"
     ],
     "language": "python",
     "metadata": {},
     "outputs": [
      {
       "output_type": "stream",
       "stream": "stdout",
       "text": [
        "names: ['Alice', 'Bob', 'Cindy']\n",
        "scores: [90, 75, 83]\n",
        "{'Bob': 75, 'Alice': 90, 'Cindy': 83}\n",
        "The score of Alice is 90\n",
        "67\n"
       ]
      },
      {
       "ename": "KeyError",
       "evalue": "'Helen'",
       "output_type": "pyerr",
       "traceback": [
        "\u001b[0;31m---------------------------------------------------------------------------\u001b[0m\n\u001b[0;31mKeyError\u001b[0m                                  Traceback (most recent call last)",
        "\u001b[0;32m<ipython-input-6-d25545b43f3a>\u001b[0m in \u001b[0;36m<module>\u001b[0;34m()\u001b[0m\n\u001b[1;32m     13\u001b[0m \u001b[0;32mprint\u001b[0m \u001b[0mkv\u001b[0m\u001b[0;34m[\u001b[0m\u001b[0;34m'Dave'\u001b[0m\u001b[0;34m]\u001b[0m\u001b[0;34m\u001b[0m\u001b[0m\n\u001b[1;32m     14\u001b[0m \u001b[0;34m\u001b[0m\u001b[0m\n\u001b[0;32m---> 15\u001b[0;31m \u001b[0;32mprint\u001b[0m \u001b[0mkv\u001b[0m\u001b[0;34m[\u001b[0m\u001b[0;34m'Helen'\u001b[0m\u001b[0;34m]\u001b[0m\u001b[0;34m\u001b[0m\u001b[0m\n\u001b[0m",
        "\u001b[0;31mKeyError\u001b[0m: 'Helen'"
       ]
      }
     ],
     "prompt_number": 6
    },
    {
     "cell_type": "code",
     "collapsed": false,
     "input": [
      "# \u53ef\u4ee5\u7528get\u8bbf\u95ee\uff0c\u4e0d\u7eaf\u5728\u7684key\n",
      "print kv.get('Helen')\n",
      "print kv.get('Helen') == None\n",
      "\n",
      "# \u8fd8\u80fd\u6307\u5b9a\u4e00\u4e2a\u5982\u679ckey\u4e0d\u5b58\u5728\u65f6\u8fd4\u56de\u7684\u9ed8\u8ba4\u503c\n",
      "print kv.get('Helen', -1)\n",
      "\n",
      "# \u53ef\u4ee5\u7528in\u6765\u5224\u65adkey\u662f\u5426\u5b58\u5728\n",
      "print 'Helen' in kv\n",
      "print 'Bob' in kv\n",
      "\n",
      "# \u53ef\u4ee5\u7528pop\u5220\u9664\u4e00\u4e2akey\n",
      "#print kv.pop('Bob')\n",
      "print 'Helen' in kv\n",
      "print 'Bob' in kv\n",
      "\n",
      "if 'Bob' in kv:\n",
      "    kv.pop('Bob')\n",
      "print kv"
     ],
     "language": "python",
     "metadata": {},
     "outputs": [
      {
       "output_type": "stream",
       "stream": "stdout",
       "text": [
        "None\n",
        "True\n",
        "-1\n",
        "False\n",
        "False\n",
        "False\n",
        "False\n",
        "{'Alice': 90, 'Cindy': 83, 'Dave': 67}\n"
       ]
      }
     ],
     "prompt_number": 18
    },
    {
     "cell_type": "heading",
     "level": 2,
     "metadata": {},
     "source": [
      "set"
     ]
    },
    {
     "cell_type": "markdown",
     "metadata": {},
     "source": [
      "\u96c6\u5408\uff0c\u4fdd\u5b58\u4e0d\u91cd\u590d\u7684\u5143\u7d20\u3002\u5176\u5b9e\u662f\u6ca1\u6709value\u7684\uff08\u6216\u8005\u53ef\u4ee5\u8ba4\u4e3a\u662fvalue\u90fd\u4e00\u6837\u7684\uff09**dict**"
     ]
    },
    {
     "cell_type": "code",
     "collapsed": false,
     "input": [
      "# \u521b\u5efa\u4e00\u4e2aset\uff0c\u8981\u4f20\u5165\u4e00\u4e2alist\u4f5c\u4e3a\u53c2\u6570\n",
      "s = set()\n",
      "print s\n",
      "s = set([])\n",
      "print s\n",
      "s = set([1,2,3])\n",
      "print s"
     ],
     "language": "python",
     "metadata": {},
     "outputs": [
      {
       "output_type": "stream",
       "stream": "stdout",
       "text": [
        "set([])\n",
        "set([])\n",
        "set([1, 2, 3])\n"
       ]
      }
     ],
     "prompt_number": 25
    },
    {
     "cell_type": "code",
     "collapsed": false,
     "input": [
      "# set\u53ef\u4ee5\u53bb\u91cd\n",
      "s = set([1, 2, 3, 4, 5, 5, 4, 3, 2, 1])\n",
      "print s"
     ],
     "language": "python",
     "metadata": {},
     "outputs": [
      {
       "output_type": "stream",
       "stream": "stdout",
       "text": [
        "set([1, 2, 3, 4, 5])\n"
       ]
      }
     ],
     "prompt_number": 27
    },
    {
     "cell_type": "code",
     "collapsed": false,
     "input": [
      "# add: \u6dfb\u52a0\u5143\u7d20\n",
      "s.add('abc')\n",
      "print s\n",
      "\n",
      "# remove: \u5220\u9664\u5143\u7d20\n",
      "s.remove('abc')\n",
      "print s\n",
      "\n",
      "s.remove('1')"
     ],
     "language": "python",
     "metadata": {},
     "outputs": [
      {
       "output_type": "stream",
       "stream": "stdout",
       "text": [
        "set([1, 2, 3, 4, 5, 'abc'])\n",
        "set([1, 2, 3, 4, 5])\n"
       ]
      },
      {
       "ename": "KeyError",
       "evalue": "'1'",
       "output_type": "pyerr",
       "traceback": [
        "\u001b[0;31m---------------------------------------------------------------------------\u001b[0m\n\u001b[0;31mKeyError\u001b[0m                                  Traceback (most recent call last)",
        "\u001b[0;32m<ipython-input-31-d9272c241d66>\u001b[0m in \u001b[0;36m<module>\u001b[0;34m()\u001b[0m\n\u001b[1;32m      7\u001b[0m \u001b[0;32mprint\u001b[0m \u001b[0ms\u001b[0m\u001b[0;34m\u001b[0m\u001b[0m\n\u001b[1;32m      8\u001b[0m \u001b[0;34m\u001b[0m\u001b[0m\n\u001b[0;32m----> 9\u001b[0;31m \u001b[0ms\u001b[0m\u001b[0;34m.\u001b[0m\u001b[0mremove\u001b[0m\u001b[0;34m(\u001b[0m\u001b[0;34m'1'\u001b[0m\u001b[0;34m)\u001b[0m\u001b[0;34m\u001b[0m\u001b[0m\n\u001b[0m",
        "\u001b[0;31mKeyError\u001b[0m: '1'"
       ]
      }
     ],
     "prompt_number": 31
    },
    {
     "cell_type": "code",
     "collapsed": false,
     "input": [
      "# \u53ef\u4ee5\u53d6\u4ea4\u96c6\u548c\u5e76\u96c6\n",
      "s1 = set([1,2,3])\n",
      "s2 = set([3,4,5])\n",
      "print 's1:', s1\n",
      "print 's2:', s2\n",
      "print 's1 & s2:', s1 & s2\n",
      "print 's1 | s2:', s1 | s2"
     ],
     "language": "python",
     "metadata": {},
     "outputs": [
      {
       "output_type": "stream",
       "stream": "stdout",
       "text": [
        "s1: set([1, 2, 3])\n",
        "s2: set([3, 4, 5])\n",
        "s1 & s2: set([3])\n",
        "s1 | s2: set([1, 2, 3, 4, 5])\n"
       ]
      }
     ],
     "prompt_number": 35
    },
    {
     "cell_type": "heading",
     "level": 2,
     "metadata": {},
     "source": [
      "\u4e0d\u53ef\u53d8\u5bf9\u8c61"
     ]
    },
    {
     "cell_type": "code",
     "collapsed": false,
     "input": [
      "# \u53ef\u53d8\u5bf9\u8c61\n",
      "a = ['b','a','c']\n",
      "print a\n",
      "\n",
      "a.sort()\n",
      "print a\n",
      "\n",
      "# \u4e0d\u53ef\u53d8\u5bf9\u8c61\n",
      "a = 'abc'\n",
      "print a\n",
      "\n",
      "a.replace('a', '\u4e2d')\n",
      "print a\n",
      "\n",
      "a = 'abc'\n",
      "print a\n",
      "\n",
      "b = a.replace('a', '\u4e2d')\n",
      "print a\n",
      "\n",
      "# tuple as a element: YES\n",
      "s = set([1, 2, 3])\n",
      "print s\n",
      "\n",
      "s.add(('a', 'b', 'c'))\n",
      "print s\n",
      "\n",
      "# list as a element: NO\n",
      "# TypeError: unhashable type: 'list'\n",
      "s.add(['a', 'b', 'c'])\n",
      "print s"
     ],
     "language": "python",
     "metadata": {},
     "outputs": [
      {
       "output_type": "stream",
       "stream": "stdout",
       "text": [
        "['b', 'a', 'c']\n",
        "['a', 'b', 'c']\n",
        "abc\n",
        "abc\n",
        "abc\n",
        "abc\n",
        "set([1, 2, 3])\n",
        "set([1, 2, 3, ('a', 'b', 'c')])\n"
       ]
      },
      {
       "ename": "TypeError",
       "evalue": "unhashable type: 'list'",
       "output_type": "pyerr",
       "traceback": [
        "\u001b[0;31m---------------------------------------------------------------------------\u001b[0m\n\u001b[0;31mTypeError\u001b[0m                                 Traceback (most recent call last)",
        "\u001b[0;32m<ipython-input-50-273a342419f3>\u001b[0m in \u001b[0;36m<module>\u001b[0;34m()\u001b[0m\n\u001b[1;32m     28\u001b[0m \u001b[0;31m# list as a element: NO\u001b[0m\u001b[0;34m\u001b[0m\u001b[0;34m\u001b[0m\u001b[0m\n\u001b[1;32m     29\u001b[0m \u001b[0;31m# TypeError: unhashable type: 'list'\u001b[0m\u001b[0;34m\u001b[0m\u001b[0;34m\u001b[0m\u001b[0m\n\u001b[0;32m---> 30\u001b[0;31m \u001b[0ms\u001b[0m\u001b[0;34m.\u001b[0m\u001b[0madd\u001b[0m\u001b[0;34m(\u001b[0m\u001b[0;34m[\u001b[0m\u001b[0;34m'a'\u001b[0m\u001b[0;34m,\u001b[0m \u001b[0;34m'b'\u001b[0m\u001b[0;34m,\u001b[0m \u001b[0;34m'c'\u001b[0m\u001b[0;34m]\u001b[0m\u001b[0;34m)\u001b[0m\u001b[0;34m\u001b[0m\u001b[0m\n\u001b[0m\u001b[1;32m     31\u001b[0m \u001b[0;32mprint\u001b[0m \u001b[0ms\u001b[0m\u001b[0;34m\u001b[0m\u001b[0m\n",
        "\u001b[0;31mTypeError\u001b[0m: unhashable type: 'list'"
       ]
      }
     ],
     "prompt_number": 50
    },
    {
     "cell_type": "heading",
     "level": 2,
     "metadata": {},
     "source": [
      "\u51fd\u6570"
     ]
    },
    {
     "cell_type": "code",
     "collapsed": false,
     "input": [
      "# def\u5b9a\u4e49\u51fd\u6570\n",
      "def my_abs(x):\n",
      "    if x>=0:\n",
      "        return x\n",
      "    else:\n",
      "        return -x\n",
      "\n",
      "print my_abs(-2)\n",
      "\n",
      "# \u7a7a\u51fd\u6570\n",
      "def nop():\n",
      "    pass\n",
      "\n",
      "print nop()"
     ],
     "language": "python",
     "metadata": {},
     "outputs": [
      {
       "output_type": "stream",
       "stream": "stdout",
       "text": [
        "2\n",
        "None\n"
       ]
      }
     ],
     "prompt_number": 52
    },
    {
     "cell_type": "heading",
     "level": 2,
     "metadata": {},
     "source": [
      "# \u6570\u636e\u7c7b\u578b\u68c0\u67e5isinstance\n",
      "#print my_abs('ABC') # \u51fa\u6765\u7684\u5c45\u7136\u662f'ABC'\n",
      "\n",
      "def my_abs(x):\n",
      "    if not isinstance(x, (int, float)):\n",
      "        raise TypeError('Bad operand type')\n",
      "    if x>=0:\n",
      "        return x\n",
      "    else:\n",
      "        return -x\n",
      "\n",
      "print my_abs(-3.14)\n",
      "print my_abs('-3.14')"
     ]
    },
    {
     "cell_type": "code",
     "collapsed": false,
     "input": [
      "# \u8fd4\u56de\u591a\u4e2a\u503c\uff0c\u5176\u5b9e\u8fd4\u56de\u7684\u662f\u4e00\u4e2atuple\n",
      "import math\n",
      "\n",
      "def move(x, y, step, angle=0):\n",
      "    nx = x + step * math.cos(angle)\n",
      "    ny = y - step * math.sin(angle)\n",
      "    return nx, ny\n",
      "\n",
      "x, y = move(100, 100, 60, math.pi/6)\n",
      "print x, y\n",
      "\n",
      "pos = move(100, 100, 30, math.pi/6)\n",
      "print pos"
     ],
     "language": "python",
     "metadata": {},
     "outputs": [
      {
       "output_type": "stream",
       "stream": "stdout",
       "text": [
        "151.961524227 70.0\n",
        "(125.98076211353316, 85.0)\n"
       ]
      }
     ],
     "prompt_number": 60
    },
    {
     "cell_type": "heading",
     "level": 2,
     "metadata": {},
     "source": [
      "\u51fd\u6570\u53c2\u6570"
     ]
    },
    {
     "cell_type": "code",
     "collapsed": false,
     "input": [
      "# \u9ed8\u8ba4\u53c2\u6570\n",
      "def power(x, n=2):\n",
      "    s = 1\n",
      "    while n > 0:\n",
      "        n = n - 1\n",
      "        s = s * x\n",
      "    return s\n",
      "\n",
      "print power(3)\n",
      "print power(3, 4)"
     ],
     "language": "python",
     "metadata": {},
     "outputs": [
      {
       "output_type": "stream",
       "stream": "stdout",
       "text": [
        "9\n",
        "81\n"
       ]
      }
     ],
     "prompt_number": 61
    },
    {
     "cell_type": "code",
     "collapsed": false,
     "input": [
      "# \u9ed8\u8ba4\u53c2\u6570\u5e94\u8be5\u6307\u5411\u4e0d\u53d8\u53d8\u91cf\n",
      "def add_end(L=[]):\n",
      "    L.append('END')\n",
      "    return L\n",
      "\n",
      "print add_end()\n",
      "print add_end()\n",
      "    "
     ],
     "language": "python",
     "metadata": {},
     "outputs": [
      {
       "output_type": "stream",
       "stream": "stdout",
       "text": [
        "['END']\n",
        "['END', 'END']\n"
       ]
      }
     ],
     "prompt_number": 62
    },
    {
     "cell_type": "heading",
     "level": 2,
     "metadata": {},
     "source": [
      "\u53ef\u53d8\u53c2\u6570"
     ]
    },
    {
     "cell_type": "code",
     "collapsed": false,
     "input": [
      "# \u7528*\u8868\u793a\u53ef\u53d8\u53c2\u6570\u7684tuple\n",
      "def calc(*numbers):\n",
      "    sum = 0\n",
      "    for n in numbers:\n",
      "        sum = sum + n*n\n",
      "    return sum\n",
      "\n",
      "print calc(1, 2, 3, 4, 5, 6, 7, 8, 9, 10)\n",
      "\n",
      "#\u53ef\u4ee5\u5c06list\u6216\u8005tuple\u901a\u8fc7*list or *tuple\u7684\u65b9\u5f0f\u4f20\u5165\u53ef\u53d8\u53c2\u6570\n",
      "nums = [1, 2, 3]\n",
      "print calc(*nums)\n",
      "\n",
      "nums = (4, 5, 6)\n",
      "print calc(*nums)"
     ],
     "language": "python",
     "metadata": {},
     "outputs": [
      {
       "output_type": "stream",
       "stream": "stdout",
       "text": [
        "385\n",
        "14\n",
        "77\n"
       ]
      }
     ],
     "prompt_number": 65
    },
    {
     "cell_type": "heading",
     "level": 2,
     "metadata": {},
     "source": [
      "\u5173\u952e\u5b57\u53c2\u6570"
     ]
    },
    {
     "cell_type": "code",
     "collapsed": false,
     "input": [
      "# \u7528**kv\u6765\u4f20\u5165\u5173\u952e\u5b57\u53c2\u6570\n",
      "def person(name, age, **kv):\n",
      "    print 'name:', name, 'age:', age, 'other:', kv\n",
      "\n",
      "person('Alice', 18)\n",
      "person('Alice', 18, city = 'Beijing')\n",
      "person('Alice', 18, gender = 'F', job = 'Nurse')\n",
      "\n",
      "# \u7528**dict\u4f20\u5165dict\u53c2\u6570\n",
      "person('Alice', 18, **{'gender':'F'})\n"
     ],
     "language": "python",
     "metadata": {},
     "outputs": [
      {
       "output_type": "stream",
       "stream": "stdout",
       "text": [
        "name: Alice age: 18 other: {}\n",
        "name: Alice age: 18 other: {'city': 'Beijing'}\n",
        "name: Alice age: 18 other: {'gender': 'F', 'job': 'Nurse'}\n",
        "name: Alice age: 18 other: {'gender': 'F'}\n"
       ]
      }
     ],
     "prompt_number": 72
    },
    {
     "cell_type": "heading",
     "level": 2,
     "metadata": {},
     "source": [
      "\u53c2\u6570\u7ec4\u5408"
     ]
    },
    {
     "cell_type": "code",
     "collapsed": false,
     "input": [
      "def func(a, b, c=0, *args, **kv):\n",
      "    print 'a=',a,'b=',b,'c=',c, 'args=',args,'kv=',kv\n",
      "\n",
      "func(1, 2)"
     ],
     "language": "python",
     "metadata": {},
     "outputs": [
      {
       "output_type": "stream",
       "stream": "stdout",
       "text": [
        "a= 1 b= 2 c= 0 args= () kv= {}\n"
       ]
      }
     ],
     "prompt_number": 75
    },
    {
     "cell_type": "heading",
     "level": 2,
     "metadata": {},
     "source": [
      "\u9012\u5f52\u51fd\u6570"
     ]
    },
    {
     "cell_type": "code",
     "collapsed": false,
     "input": [
      "def fact(n):\n",
      "    if n==1:\n",
      "        return 1\n",
      "    else:\n",
      "        return n*fact(n-1)\n",
      "\n",
      "print '5! =', fact(5)\n",
      "print '10! =', fact(10)\n",
      "print '100! =', fact(100)\n"
     ],
     "language": "python",
     "metadata": {},
     "outputs": [
      {
       "output_type": "stream",
       "stream": "stdout",
       "text": [
        " 5! = 120\n",
        "10! = 3628800\n",
        "100! = 93326215443944152681699238856266700490715968264381621468592963895217599993229915608941463976156518286253697920827223758251185210916864000000000000000000000000\n"
       ]
      }
     ],
     "prompt_number": 79
    },
    {
     "cell_type": "heading",
     "level": 3,
     "metadata": {},
     "source": [
      "\u5c3e\u9012\u5f52"
     ]
    },
    {
     "cell_type": "markdown",
     "metadata": {},
     "source": [
      "\u5c3e\u9012\u5f52\u662f\u6307\uff0c\u5728\u51fd\u6570\u8fd4\u56de\u7684\u65f6\u5019\uff0c\u8c03\u7528\u81ea\u8eab\u672c\u8eab\uff0c\u5e76\u4e14\uff0creturn\u8bed\u53e5\u4e0d\u80fd\u5305\u542b\u8868\u8fbe\u5f0f\u3002\u8fd9\u6837\uff0c\u7f16\u8bd1\u5668\u6216\u8005\u89e3\u91ca\u5668\u5c31\u53ef\u4ee5\u628a\u5c3e\u9012\u5f52\u505a\u4f18\u5316\uff0c\u4f7f\u9012\u5f52\u672c\u8eab\u65e0\u8bba\u8c03\u7528\u591a\u5c11\u6b21\uff0c\u90fd\u53ea\u5360\u7528\u4e00\u4e2a\u6808\u5e27\uff0c\u4e0d\u4f1a\u51fa\u73b0\u6808\u6ea2\u51fa\u7684\u60c5\u51b5\u3002"
     ]
    },
    {
     "cell_type": "code",
     "collapsed": false,
     "input": [
      "def fact1(n):\n",
      "    return fact_iter(1, 1, n)\n",
      "\n",
      "def fact_iter(product, count, max):\n",
      "    if count > max:\n",
      "        return product\n",
      "    return fact_iter(product*count, count+1, max) # \u8fd9\u4e2a\u9012\u5f52\u4e0d\u542b\u8868\u8fbe\u5f0f\uff0c\u662f\u5c3e\u9012\u5f52\n",
      "\n",
      "print '5! =', fact1(5)\n",
      "print '10! =', fact1(10)\n",
      "print '100! =', fact1(100)"
     ],
     "language": "python",
     "metadata": {},
     "outputs": [
      {
       "output_type": "stream",
       "stream": "stdout",
       "text": [
        "5! = 120\n",
        "10! = 3628800\n",
        "100! = 93326215443944152681699238856266700490715968264381621468592963895217599993229915608941463976156518286253697920827223758251185210916864000000000000000000000000\n"
       ]
      }
     ],
     "prompt_number": 80
    },
    {
     "cell_type": "heading",
     "level": 2,
     "metadata": {},
     "source": [
      "\u5207\u7247"
     ]
    },
    {
     "cell_type": "code",
     "collapsed": false,
     "input": [
      "#\u7528:\u6765\u5bf9list\u6216\u8005tuple\u505a\u5207\u7247\n",
      "l = ['a', 'b', 'c', 'd']\n",
      "\n",
      "# \u5168\u90e8\n",
      "print l[:]\n",
      "\n",
      "# start <= i < end\n",
      "print l[0:4]\n",
      "print l[1:3]\n",
      "\n",
      "# -\u8868\u793a\u5012\u6570\uff0c-1\u662f\u6700\u540e\u4e00\u4e2a\u5143\u7d20\n",
      "print l[:-1]\n",
      "print l[0:-1]\n",
      "print l[1:-1]\n",
      "print l[3:-2]\n",
      "\n",
      "L = range(0, 100, 4)\n",
      "\n",
      "print L\n",
      "print L[-10:]\n",
      "print L[0:-3:7]\n",
      "print L[::2]\n",
      "\n",
      "print 'ABCDEFGHIGKLMN'[::2]"
     ],
     "language": "python",
     "metadata": {},
     "outputs": [
      {
       "output_type": "stream",
       "stream": "stdout",
       "text": [
        "['a', 'b', 'c', 'd']\n",
        "['a', 'b', 'c', 'd']\n",
        "['b', 'c']\n",
        "['a', 'b', 'c']\n",
        "['a', 'b', 'c']\n",
        "['b', 'c']\n",
        "[]\n",
        "[0, 4, 8, 12, 16, 20, 24, 28, 32, 36, 40, 44, 48, 52, 56, 60, 64, 68, 72, 76, 80, 84, 88, 92, 96]\n",
        "[60, 64, 68, 72, 76, 80, 84, 88, 92, 96]\n",
        "[0, 28, 56, 84]\n",
        "[0, 8, 16, 24, 32, 40, 48, 56, 64, 72, 80, 88, 96]\n",
        "ACEGIKM\n"
       ]
      }
     ],
     "prompt_number": 94
    },
    {
     "cell_type": "heading",
     "level": 2,
     "metadata": {},
     "source": [
      "\u8fed\u4ee3"
     ]
    },
    {
     "cell_type": "code",
     "collapsed": false,
     "input": [
      "# for in\n",
      "L = range(1, 100, 10)\n",
      "\n",
      "for e in L:\n",
      "    print e\n",
      "    \n",
      "l = (1, 2, 3)\n",
      "for e in l:\n",
      "    print e"
     ],
     "language": "python",
     "metadata": {},
     "outputs": [
      {
       "output_type": "stream",
       "stream": "stdout",
       "text": [
        "1\n",
        "11\n",
        "21\n",
        "31\n",
        "41\n",
        "51\n",
        "61\n",
        "71\n",
        "81\n",
        "91\n",
        "1\n",
        "2\n",
        "3\n"
       ]
      }
     ],
     "prompt_number": 106
    },
    {
     "cell_type": "code",
     "collapsed": false,
     "input": [
      "# key iteration\n",
      "d = {'a':1, 'b':2, 'c':3}\n",
      "for key in d:\n",
      "    print key, '->', d[key]"
     ],
     "language": "python",
     "metadata": {},
     "outputs": [
      {
       "output_type": "stream",
       "stream": "stdout",
       "text": [
        "a -> 1\n",
        "c -> 3\n",
        "b -> 2\n"
       ]
      }
     ],
     "prompt_number": 97
    },
    {
     "cell_type": "code",
     "collapsed": false,
     "input": [
      "# value iteration\n",
      "for value in d.itervalues():\n",
      "    print value"
     ],
     "language": "python",
     "metadata": {},
     "outputs": [
      {
       "output_type": "stream",
       "stream": "stdout",
       "text": [
        "1\n",
        "3\n",
        "2\n"
       ]
      }
     ],
     "prompt_number": 99
    },
    {
     "cell_type": "code",
     "collapsed": false,
     "input": [
      "# kv iteration\n",
      "for k, v in d.iteritems():\n",
      "    print k, v"
     ],
     "language": "python",
     "metadata": {},
     "outputs": [
      {
       "output_type": "stream",
       "stream": "stdout",
       "text": [
        "a 1\n",
        "c 3\n",
        "b 2\n"
       ]
      }
     ],
     "prompt_number": 100
    },
    {
     "cell_type": "code",
     "collapsed": false,
     "input": [
      "# string iteration\n",
      "for c in \"ABCDEFGH\":\n",
      "    print c"
     ],
     "language": "python",
     "metadata": {},
     "outputs": [
      {
       "output_type": "stream",
       "stream": "stdout",
       "text": [
        "A\n",
        "B\n",
        "C\n",
        "D\n",
        "E\n",
        "F\n",
        "G\n",
        "H\n"
       ]
      }
     ],
     "prompt_number": 101
    },
    {
     "cell_type": "code",
     "collapsed": false,
     "input": [
      "# iterable\n",
      "from collections import Iterable\n",
      "print isinstance('abc', Iterable)\n",
      "print isinstance([1,2,3], Iterable)\n",
      "print isinstance(123, Iterable)"
     ],
     "language": "python",
     "metadata": {},
     "outputs": [
      {
       "output_type": "stream",
       "stream": "stdout",
       "text": [
        "True\n",
        "True\n",
        "False\n"
       ]
      }
     ],
     "prompt_number": 104
    },
    {
     "cell_type": "code",
     "collapsed": false,
     "input": [
      "# enumerate\n",
      "for index, value in enumerate([1, 2, 3]):\n",
      "    print index, value"
     ],
     "language": "python",
     "metadata": {},
     "outputs": [
      {
       "output_type": "stream",
       "stream": "stdout",
       "text": [
        "0 1\n",
        "1 2\n",
        "2 3\n"
       ]
      }
     ],
     "prompt_number": 105
    },
    {
     "cell_type": "code",
     "collapsed": false,
     "input": [
      "# tuple\n",
      "for x, y, z in ((1,2,3), (4,5,6), (7,8,9)):\n",
      "    print \"%d-%d-%d\" %(x,y,z)"
     ],
     "language": "python",
     "metadata": {},
     "outputs": [
      {
       "output_type": "stream",
       "stream": "stdout",
       "text": [
        "1-2-3\n",
        "4-5-6\n",
        "7-8-9\n"
       ]
      }
     ],
     "prompt_number": 108
    },
    {
     "cell_type": "heading",
     "level": 2,
     "metadata": {},
     "source": [
      "\u5217\u8868\u751f\u6210"
     ]
    },
    {
     "cell_type": "code",
     "collapsed": false,
     "input": [
      "print range(1, 11)"
     ],
     "language": "python",
     "metadata": {},
     "outputs": [
      {
       "output_type": "stream",
       "stream": "stdout",
       "text": [
        "[1, 2, 3, 4, 5, 6, 7, 8, 9, 10]\n"
       ]
      }
     ],
     "prompt_number": 1
    },
    {
     "cell_type": "code",
     "collapsed": false,
     "input": [
      "print [x*x for x in range(1, 11)]"
     ],
     "language": "python",
     "metadata": {},
     "outputs": [
      {
       "output_type": "stream",
       "stream": "stdout",
       "text": [
        "[1, 4, 9, 16, 25, 36, 49, 64, 81, 100]\n"
       ]
      }
     ],
     "prompt_number": 2
    },
    {
     "cell_type": "code",
     "collapsed": false,
     "input": [
      "print [x*x for x in range(1, 11) if x%2==0]"
     ],
     "language": "python",
     "metadata": {},
     "outputs": [
      {
       "output_type": "stream",
       "stream": "stdout",
       "text": [
        "[4, 16, 36, 64, 100]\n"
       ]
      }
     ],
     "prompt_number": 3
    },
    {
     "cell_type": "code",
     "collapsed": false,
     "input": [
      "print [m + n for m in 'ABC' for n in 'EFG']"
     ],
     "language": "python",
     "metadata": {},
     "outputs": [
      {
       "output_type": "stream",
       "stream": "stdout",
       "text": [
        "['AE', 'AF', 'AG', 'BE', 'BF', 'BG', 'CE', 'CF', 'CG']\n"
       ]
      }
     ],
     "prompt_number": 4
    },
    {
     "cell_type": "code",
     "collapsed": false,
     "input": [
      "import os\n",
      "print [d for d in os.listdir('.')]"
     ],
     "language": "python",
     "metadata": {},
     "outputs": [
      {
       "output_type": "stream",
       "stream": "stdout",
       "text": [
        "['.ipynb_checkpoints', 'basic.ipynb', 'JavaScriptTest.ipynb']\n"
       ]
      }
     ],
     "prompt_number": 7
    },
    {
     "cell_type": "code",
     "collapsed": false,
     "input": [
      "print [k + '->' + v for k, v in {'a':'1', 'b':'2', 'c':'3'}.iteritems()]"
     ],
     "language": "python",
     "metadata": {},
     "outputs": [
      {
       "output_type": "stream",
       "stream": "stdout",
       "text": [
        "['a->1', 'c->3', 'b->2']\n"
       ]
      }
     ],
     "prompt_number": 9
    },
    {
     "cell_type": "code",
     "collapsed": false,
     "input": [
      "L = ['Hello', 'World', 'IBM', 'Apple']\n",
      "print [s.lower() for s in L]"
     ],
     "language": "python",
     "metadata": {},
     "outputs": [
      {
       "output_type": "stream",
       "stream": "stdout",
       "text": [
        "['hello', 'world', 'ibm', 'apple']\n"
       ]
      }
     ],
     "prompt_number": 10
    },
    {
     "cell_type": "code",
     "collapsed": false,
     "input": [
      "L[0:3]"
     ],
     "language": "python",
     "metadata": {},
     "outputs": [
      {
       "metadata": {},
       "output_type": "pyout",
       "prompt_number": 11,
       "text": [
        "['Hello', 'World', 'IBM']"
       ]
      }
     ],
     "prompt_number": 11
    },
    {
     "cell_type": "code",
     "collapsed": false,
     "input": [
      "print zip([1,2,3], ['A', 'B', 'C'])"
     ],
     "language": "python",
     "metadata": {},
     "outputs": [
      {
       "output_type": "stream",
       "stream": "stdout",
       "text": [
        "[(1, 'A'), (2, 'B'), (3, 'C')]\n"
       ]
      }
     ],
     "prompt_number": 12
    },
    {
     "cell_type": "heading",
     "level": 2,
     "metadata": {},
     "source": [
      "\u751f\u6210\u5668Generator"
     ]
    },
    {
     "cell_type": "code",
     "collapsed": false,
     "input": [
      "#list\u592a\u5360\u7a7a\u95f4\uff0c\u53ef\u4ee5\u7528\u751f\u6210\u5668\u751f\u4ea7\u89c4\u5219\uff0c\u7136\u540e\u901a\u8fc7next\u53bb\u8fed\u4ee3\n",
      "\n",
      "# \u751f\u6210\u751f\u6210\u5668\u7684\u7b2c\u4e00\u79cd\u65b9\u6cd5\uff0c\u5c31\u662f\u751f\u6210\u5217\u8868\u7684[]\u53d8\u6210()\n",
      "L = [x*x for x in range(1, 5)]\n",
      "print L\n",
      "\n",
      "G = (x*x for x in range(1, 5))\n",
      "print G\n",
      "\n",
      "print G.next()\n",
      "print G.next()\n",
      "print G.next()\n",
      "print G.next()\n",
      "print G.next()\n"
     ],
     "language": "python",
     "metadata": {},
     "outputs": [
      {
       "output_type": "stream",
       "stream": "stdout",
       "text": [
        "[1, 4, 9, 16]\n",
        "<generator object <genexpr> at 0x10fc90f50>\n",
        "1\n",
        "4\n",
        "9\n",
        "16\n"
       ]
      },
      {
       "ename": "StopIteration",
       "evalue": "",
       "output_type": "pyerr",
       "traceback": [
        "\u001b[0;31m---------------------------------------------------------------------------\u001b[0m\n\u001b[0;31mStopIteration\u001b[0m                             Traceback (most recent call last)",
        "\u001b[0;32m<ipython-input-18-4fd7c947255f>\u001b[0m in \u001b[0;36m<module>\u001b[0;34m()\u001b[0m\n\u001b[1;32m     12\u001b[0m \u001b[0;32mprint\u001b[0m \u001b[0mG\u001b[0m\u001b[0;34m.\u001b[0m\u001b[0mnext\u001b[0m\u001b[0;34m(\u001b[0m\u001b[0;34m)\u001b[0m\u001b[0;34m\u001b[0m\u001b[0m\n\u001b[1;32m     13\u001b[0m \u001b[0;32mprint\u001b[0m \u001b[0mG\u001b[0m\u001b[0;34m.\u001b[0m\u001b[0mnext\u001b[0m\u001b[0;34m(\u001b[0m\u001b[0;34m)\u001b[0m\u001b[0;34m\u001b[0m\u001b[0m\n\u001b[0;32m---> 14\u001b[0;31m \u001b[0;32mprint\u001b[0m \u001b[0mG\u001b[0m\u001b[0;34m.\u001b[0m\u001b[0mnext\u001b[0m\u001b[0;34m(\u001b[0m\u001b[0;34m)\u001b[0m\u001b[0;34m\u001b[0m\u001b[0m\n\u001b[0m",
        "\u001b[0;31mStopIteration\u001b[0m: "
       ]
      }
     ],
     "prompt_number": 18
    },
    {
     "cell_type": "code",
     "collapsed": false,
     "input": [
      "# \u53ef\u4ee5\u7528\u4e0elist\u76f8\u540c\u7684for\u6765\u904d\u5386\u751f\u6210\u5668\n",
      "G = (x*x for x in range(1, 5))\n",
      "for x in G:\n",
      "    print x\n"
     ],
     "language": "python",
     "metadata": {},
     "outputs": [
      {
       "output_type": "stream",
       "stream": "stdout",
       "text": [
        "1\n",
        "4\n",
        "9\n",
        "16\n"
       ]
      }
     ],
     "prompt_number": 20
    },
    {
     "cell_type": "code",
     "collapsed": false,
     "input": [
      "# \u53ef\u4ee5\u7528yield,\u4ece\u800c\u5c06\u4e00\u4e2a\u51fd\u6570\u53d8\u6210\u4e00\u4e2a\u751f\u6210\u5668, next\u5c31\u6bcf\u6b21\u6267\u884c\u5230yield\u7ed3\u675f\n",
      "def fib(max):\n",
      "    n, a, b = 0, 0, 1\n",
      "    while n < max:\n",
      "        print b\n",
      "        a, b = b, a + b\n",
      "        n = n + 1\n",
      "\n",
      "def fib_g(max):\n",
      "    n, a, b = 0, 0, 1\n",
      "    while n < max:\n",
      "        yield b\n",
      "        a, b = b, a + b\n",
      "        n = n + 1\n",
      "\n",
      "fib(6)\n",
      "fib_g(6)"
     ],
     "language": "python",
     "metadata": {},
     "outputs": [
      {
       "output_type": "stream",
       "stream": "stdout",
       "text": [
        "1\n",
        "1\n",
        "2\n",
        "3\n",
        "5\n",
        "8\n"
       ]
      },
      {
       "metadata": {},
       "output_type": "pyout",
       "prompt_number": 22,
       "text": [
        "<generator object fib_g at 0x10fc90f00>"
       ]
      }
     ],
     "prompt_number": 22
    },
    {
     "cell_type": "code",
     "collapsed": false,
     "input": [
      "for x in fib_g(6):\n",
      "    print x"
     ],
     "language": "python",
     "metadata": {},
     "outputs": [
      {
       "output_type": "stream",
       "stream": "stdout",
       "text": [
        "1\n",
        "1\n",
        "2\n",
        "3\n",
        "5\n",
        "8\n"
       ]
      }
     ],
     "prompt_number": 23
    },
    {
     "cell_type": "heading",
     "level": 2,
     "metadata": {},
     "source": [
      "\u51fd\u6570\u5f0f\u7f16\u7a0b"
     ]
    },
    {
     "cell_type": "markdown",
     "metadata": {},
     "source": [
      "\u51fd\u6570\u5f0f\u7f16\u7a0b\u5c31\u662f\u4e00\u79cd\u62bd\u8c61\u7a0b\u5ea6\u5f88\u9ad8\u7684\u7f16\u7a0b\u8303\u5f0f\uff0c\u7eaf\u7cb9\u7684\u51fd\u6570\u5f0f\u7f16\u7a0b\u8bed\u8a00\u7f16\u5199\u7684\u51fd\u6570\u6ca1\u6709\u53d8\u91cf\uff0c\u56e0\u6b64\uff0c\u4efb\u610f\u4e00\u4e2a\u51fd\u6570\uff0c\u53ea\u8981\u8f93\u5165\u662f\u786e\u5b9a\u7684\uff0c\u8f93\u51fa\u5c31\u662f\u786e\u5b9a\u7684\uff0c\u8fd9\u79cd\u7eaf\u51fd\u6570\u6211\u4eec\u79f0\u4e4b\u4e3a\u6ca1\u6709\u526f\u4f5c\u7528\u3002\u800c\u5141\u8bb8\u4f7f\u7528\u53d8\u91cf\u7684\u7a0b\u5e8f\u8bbe\u8ba1\u8bed\u8a00\uff0c\u7531\u4e8e\u51fd\u6570\u5185\u90e8\u7684\u53d8\u91cf\u72b6\u6001\u4e0d\u786e\u5b9a\uff0c\u540c\u6837\u7684\u8f93\u5165\uff0c\u53ef\u80fd\u5f97\u5230\u4e0d\u540c\u7684\u8f93\u51fa\uff0c\u56e0\u6b64\uff0c\u8fd9\u79cd\u51fd\u6570\u662f\u6709\u526f\u4f5c\u7528\u7684\u3002\n",
      "\n",
      "\u51fd\u6570\u5f0f\u7f16\u7a0b\u7684\u4e00\u4e2a\u7279\u70b9\u5c31\u662f\uff0c\u5141\u8bb8\u628a\u51fd\u6570\u672c\u8eab\u4f5c\u4e3a\u53c2\u6570\u4f20\u5165\u53e6\u4e00\u4e2a\u51fd\u6570\uff0c\u8fd8\u5141\u8bb8\u8fd4\u56de\u4e00\u4e2a\u51fd\u6570\uff01\n",
      "\n",
      "Python\u5bf9\u51fd\u6570\u5f0f\u7f16\u7a0b\u63d0\u4f9b\u90e8\u5206\u652f\u6301\u3002\u7531\u4e8ePython\u5141\u8bb8\u4f7f\u7528\u53d8\u91cf\uff0c\u56e0\u6b64\uff0cPython\u4e0d\u662f\u7eaf\u51fd\u6570\u5f0f\u7f16\u7a0b\u8bed\u8a00\u3002"
     ]
    },
    {
     "cell_type": "code",
     "collapsed": false,
     "input": [
      "# \u53d8\u91cf\u53ef\u4ee5\u6307\u5411\u51fd\u6570\n",
      "f = abs\n",
      "print f\n",
      "print f(-19)"
     ],
     "language": "python",
     "metadata": {},
     "outputs": [
      {
       "output_type": "stream",
       "stream": "stdout",
       "text": [
        "<built-in function abs>\n",
        "19\n"
       ]
      }
     ],
     "prompt_number": 25
    },
    {
     "cell_type": "heading",
     "level": 2,
     "metadata": {},
     "source": [
      "\u4f20\u5165\u51fd\u6570\u505a\u53c2\u6570"
     ]
    },
    {
     "cell_type": "code",
     "collapsed": false,
     "input": [
      "def add(x, y, f):\n",
      "    return f(x) + f(y)\n",
      "\n",
      "print add(-5, 6, abs)"
     ],
     "language": "python",
     "metadata": {},
     "outputs": [
      {
       "output_type": "stream",
       "stream": "stdout",
       "text": [
        "11\n"
       ]
      }
     ],
     "prompt_number": 26
    },
    {
     "cell_type": "heading",
     "level": 2,
     "metadata": {},
     "source": [
      "map/reduce"
     ]
    },
    {
     "cell_type": "code",
     "collapsed": false,
     "input": [
      "# map: \u628af(x)\u4f5c\u7528\u5728list\u7684\u6bcf\u4e00\u4e2a\u5143\u7d20\u5e76\u628a\u7ed3\u679c\u751f\u6210\u4e00\u4e2a\u65b0\u7684list\n",
      "def f(x):\n",
      "    return x*x\n",
      "\n",
      "print map(f, [1, 2, 3, 4, 5])\n",
      "print map(str, [1, 2, 3, 4, 5])"
     ],
     "language": "python",
     "metadata": {},
     "outputs": [
      {
       "output_type": "stream",
       "stream": "stdout",
       "text": [
        "[1, 4, 9, 16, 25]\n",
        "['1', '2', '3', '4', '5']\n"
       ]
      }
     ],
     "prompt_number": 29
    },
    {
     "cell_type": "code",
     "collapsed": false,
     "input": [
      "# reduce:\u628a\u4e00\u4e2a\u51fd\u6570\u4f5c\u7528\u5728\u4e00\u4e2a\u5e8f\u5217[x1, x2, x3...]\u4e0a\uff0c\u8fd9\u4e2a\u51fd\u6570\u5fc5\u987b\u63a5\u6536\u4e24\u4e2a\u53c2\u6570\uff0creduce\u628a\u7ed3\u679c\u7ee7\u7eed\u548c\u5e8f\u5217\u7684\u4e0b\u4e00\u4e2a\u5143\u7d20\u505a\u7d2f\u79ef\u8ba1\u7b97\uff0c\u5176\u6548\u679c\u5c31\u662f\uff1a\n",
      "# reduce(f, [x1, x2, x3, x4]) = f(f(f(x1, x2), x3), x4)\n",
      "def add(x, y):\n",
      "    return x + y\n",
      "\n",
      "print reduce(add, [1, 2, 3, 4, 5])"
     ],
     "language": "python",
     "metadata": {},
     "outputs": [
      {
       "output_type": "stream",
       "stream": "stdout",
       "text": [
        "15\n"
       ]
      }
     ],
     "prompt_number": 30
    },
    {
     "cell_type": "code",
     "collapsed": false,
     "input": [
      "def fn(x, y):\n",
      "    return 10*x + y\n",
      "\n",
      "print reduce(fn, [1, 2, 3, 4, 5])"
     ],
     "language": "python",
     "metadata": {},
     "outputs": [
      {
       "output_type": "stream",
       "stream": "stdout",
       "text": [
        "12345\n"
       ]
      }
     ],
     "prompt_number": 31
    },
    {
     "cell_type": "code",
     "collapsed": false,
     "input": [
      "def char2num(s):\n",
      "    return {'0':0, '1':1, '2':2, '3':3, '4':4, '5':5, '6':6, '7':7, '8':8, '9':9}[s]\n",
      "\n",
      "print reduce(fn, map(char2num, '13579'))"
     ],
     "language": "python",
     "metadata": {},
     "outputs": [
      {
       "output_type": "stream",
       "stream": "stdout",
       "text": [
        "13579\n"
       ]
      }
     ],
     "prompt_number": 32
    },
    {
     "cell_type": "code",
     "collapsed": false,
     "input": [
      "def str2int(s):\n",
      "    def fn(x, y):\n",
      "        return x * 10 + y\n",
      "    def char2num(s):\n",
      "        return {'0': 0, '1': 1, '2': 2, '3': 3, '4': 4, '5': 5, '6': 6, '7': 7, '8': 8, '9': 9}[s]\n",
      "    return reduce(fn, map(char2num, s))\n",
      "\n",
      "print str2int('123456')"
     ],
     "language": "python",
     "metadata": {},
     "outputs": [
      {
       "output_type": "stream",
       "stream": "stdout",
       "text": [
        "123456\n"
       ]
      }
     ],
     "prompt_number": 33
    },
    {
     "cell_type": "code",
     "collapsed": false,
     "input": [
      "# \u7528lambda\u8868\u8fbe\u5f0f\n",
      "def str2int(s):\n",
      "    return reduce(lambda x, y: 10*x+y, map(char2num, s))\n",
      "\n",
      "print str2int('123456')"
     ],
     "language": "python",
     "metadata": {},
     "outputs": [
      {
       "output_type": "stream",
       "stream": "stdout",
       "text": [
        "123456\n"
       ]
      }
     ],
     "prompt_number": 34
    },
    {
     "cell_type": "heading",
     "level": 2,
     "metadata": {},
     "source": [
      "\u8fc7\u6ee4\u5668filter"
     ]
    },
    {
     "cell_type": "markdown",
     "metadata": {},
     "source": [
      "filter()\u628a\u4f20\u5165\u7684\u51fd\u6570\u4f9d\u6b21\u4f5c\u7528\u4e8e\u6bcf\u4e2a\u5143\u7d20\uff0c\u7136\u540e\u6839\u636e\u8fd4\u56de\u503c\u662fTrue\u8fd8\u662fFalse\u51b3\u5b9a\u4fdd\u7559\u8fd8\u662f\u4e22\u5f03\u8be5\u5143\u7d20"
     ]
    },
    {
     "cell_type": "code",
     "collapsed": false,
     "input": [
      "def is_odd(n):\n",
      "    return n%2 == 1\n",
      "\n",
      "print filter(is_odd, range(1, 10))"
     ],
     "language": "python",
     "metadata": {},
     "outputs": [
      {
       "output_type": "stream",
       "stream": "stdout",
       "text": [
        "[1, 3, 5, 7, 9]\n"
       ]
      }
     ],
     "prompt_number": 35
    },
    {
     "cell_type": "code",
     "collapsed": false,
     "input": [
      "def not_empty(s):\n",
      "    return s and s.strip()\n",
      "\n",
      "print filter(not_empty, ['A', '', 'B', None, 'C', '  '])"
     ],
     "language": "python",
     "metadata": {},
     "outputs": [
      {
       "output_type": "stream",
       "stream": "stdout",
       "text": [
        "['A', 'B', 'C']\n"
       ]
      }
     ],
     "prompt_number": 36
    },
    {
     "cell_type": "heading",
     "level": 2,
     "metadata": {},
     "source": [
      "\u6392\u5e8fsorted"
     ]
    },
    {
     "cell_type": "code",
     "collapsed": false,
     "input": [
      "# Python\u5185\u7f6e\u7684sorted()\u51fd\u6570\u5c31\u53ef\u4ee5\u5bf9list\u8fdb\u884c\u6392\u5e8f\uff1a\n",
      "print sorted([5, 79, 2, 35, 12])"
     ],
     "language": "python",
     "metadata": {},
     "outputs": [
      {
       "output_type": "stream",
       "stream": "stdout",
       "text": [
        "[2, 5, 12, 35, 79]\n"
       ]
      }
     ],
     "prompt_number": 40
    },
    {
     "cell_type": "code",
     "collapsed": false,
     "input": [
      "# sorted\u8fd8\u53ef\u4ee5\u63a5\u53d7\u4e00\u4e2acmp\u51fd\u6570\n",
      "def reversed_cmp(x, y):\n",
      "    if x > y:\n",
      "        return -1\n",
      "    elif x < y:\n",
      "        return 1\n",
      "    else:\n",
      "        return 0\n",
      "\n",
      "print sorted([5, 79, 2, 35, 12], reversed_cmp)    "
     ],
     "language": "python",
     "metadata": {},
     "outputs": [
      {
       "output_type": "stream",
       "stream": "stdout",
       "text": [
        "[79, 35, 12, 5, 2]\n"
       ]
      }
     ],
     "prompt_number": 41
    },
    {
     "cell_type": "heading",
     "level": 2,
     "metadata": {},
     "source": [
      "\u51fd\u6570\u4f5c\u4e3a\u8fd4\u56de\u503c"
     ]
    },
    {
     "cell_type": "code",
     "collapsed": false,
     "input": [
      "# \u6c42\u548c\u51fd\u6570\n",
      "def calc_sum(*args):\n",
      "    s = 0\n",
      "    for x in args:\n",
      "        s = s + x\n",
      "    return s\n",
      "\n",
      "print calc_sum(1, 3, 5, 7, 9)"
     ],
     "language": "python",
     "metadata": {},
     "outputs": [
      {
       "output_type": "stream",
       "stream": "stdout",
       "text": [
        "25\n"
       ]
      }
     ],
     "prompt_number": 42
    },
    {
     "cell_type": "code",
     "collapsed": false,
     "input": [
      "# \u60f0\u6027\u6c42\u804c\n",
      "def lazy_sum(*args):\n",
      "    def sum():\n",
      "        s = 0\n",
      "        for x in args:\n",
      "            s = s + x\n",
      "        return s\n",
      "    return sum\n",
      "\n",
      "print lazy_sum(1,3,5,7,9)"
     ],
     "language": "python",
     "metadata": {},
     "outputs": [
      {
       "output_type": "stream",
       "stream": "stdout",
       "text": [
        "<function sum at 0x10fcc1398>\n"
       ]
      }
     ],
     "prompt_number": 48
    },
    {
     "cell_type": "code",
     "collapsed": false,
     "input": [
      "print lazy_sum(1,3,5,7,9)()"
     ],
     "language": "python",
     "metadata": {},
     "outputs": [
      {
       "output_type": "stream",
       "stream": "stdout",
       "text": [
        "25\n"
       ]
      }
     ],
     "prompt_number": 51
    },
    {
     "cell_type": "code",
     "collapsed": false,
     "input": [
      "f1 = lazy_sum(1,3,5,7,9)\n",
      "f2 = lazy_sum(1,3,5,7,9)\n",
      "\n",
      "print f1 == f2"
     ],
     "language": "python",
     "metadata": {},
     "outputs": [
      {
       "output_type": "stream",
       "stream": "stdout",
       "text": [
        "False\n"
       ]
      }
     ],
     "prompt_number": 53
    },
    {
     "cell_type": "heading",
     "level": 2,
     "metadata": {},
     "source": [
      "\u533f\u540d\u51fd\u6570lambda"
     ]
    },
    {
     "cell_type": "code",
     "collapsed": false,
     "input": [
      "f = lambda x: x * x\n",
      "\n",
      "print f\n",
      "print f(5)"
     ],
     "language": "python",
     "metadata": {},
     "outputs": [
      {
       "output_type": "stream",
       "stream": "stdout",
       "text": [
        "<function <lambda> at 0x10fcc1d70>\n",
        "25\n"
       ]
      }
     ],
     "prompt_number": 56
    },
    {
     "cell_type": "code",
     "collapsed": false,
     "input": [
      "# \u533f\u540d\u51fd\u6570\u4f5c\u4e3a\u8fd4\u56de\u503c\u8fd4\u56de\n",
      "def build(x, y):\n",
      "    return lambda: x*x + y*y\n",
      "\n",
      "g = build(3, 4)\n",
      "print g\n",
      "print g()"
     ],
     "language": "python",
     "metadata": {},
     "outputs": [
      {
       "output_type": "stream",
       "stream": "stdout",
       "text": [
        "<function <lambda> at 0x10fcc1e60>\n",
        "25\n"
       ]
      }
     ],
     "prompt_number": 57
    },
    {
     "cell_type": "heading",
     "level": 2,
     "metadata": {},
     "source": [
      "\u88c5\u9970\u5668"
     ]
    },
    {
     "cell_type": "code",
     "collapsed": false,
     "input": [
      "def now():\n",
      "    return '2015-01-01'\n",
      "\n",
      "print now\n",
      "print now()\n",
      "\n",
      "f = now\n",
      "print f\n",
      "print f()"
     ],
     "language": "python",
     "metadata": {},
     "outputs": [
      {
       "output_type": "stream",
       "stream": "stdout",
       "text": [
        "<function now at 0x10fcc1c80>\n",
        "2015-01-01\n",
        "<function now at 0x10fcc1c80>\n",
        "2015-01-01\n"
       ]
      }
     ],
     "prompt_number": 60
    },
    {
     "cell_type": "code",
     "collapsed": false,
     "input": [
      "print f.__name__"
     ],
     "language": "python",
     "metadata": {},
     "outputs": [
      {
       "output_type": "stream",
       "stream": "stdout",
       "text": [
        "now\n"
       ]
      }
     ],
     "prompt_number": 62
    },
    {
     "cell_type": "markdown",
     "metadata": {},
     "source": [
      "-----------------------\n",
      "\u5047\u8bbe\u6211\u4eec\u8981\u589e\u5f3anow()\u51fd\u6570\u7684\u529f\u80fd\uff0c\u6bd4\u5982\uff0c\u5728\u51fd\u6570\u8c03\u7528\u524d\u540e\u81ea\u52a8\u6253\u5370\u65e5\u5fd7\uff0c\u4f46\u53c8\u4e0d\u5e0c\u671b\u4fee\u6539now()\u51fd\u6570\u7684\u5b9a\u4e49\uff0c\u8fd9\u79cd\u5728\u4ee3\u7801\u8fd0\u884c\u671f\u95f4\u52a8\u6001\u589e\u52a0\u529f\u80fd\u7684\u65b9\u5f0f\uff0c\u79f0\u4e4b\u4e3a\u201c\u88c5\u9970\u5668\u201d\uff08Decorator\uff09\u3002\n",
      "\u672c\u8d28\u4e0a\uff0cdecorator\u5c31\u662f\u4e00\u4e2a\u8fd4\u56de\u51fd\u6570\u7684\u9ad8\u9636\u51fd\u6570\u3002\u6240\u4ee5\uff0c\u6211\u4eec\u8981\u5b9a\u4e49\u4e00\u4e2a\u80fd\u6253\u5370\u65e5\u5fd7\u7684decorator\uff0c\u53ef\u4ee5\u5b9a\u4e49\u5982\u4e0b\uff1a"
     ]
    },
    {
     "cell_type": "code",
     "collapsed": false,
     "input": [
      "def log(func):\n",
      "    def wrapper(*args, **kv):\n",
      "        print \"call %s():\" % func.__name__\n",
      "        return func(*args, **kv)\n",
      "    return wrapper\n",
      "\n",
      "@log\n",
      "def now():\n",
      "    return '2015-01-01'\n",
      "\n",
      "now()"
     ],
     "language": "python",
     "metadata": {},
     "outputs": [
      {
       "output_type": "stream",
       "stream": "stdout",
       "text": [
        "call now():\n"
       ]
      },
      {
       "metadata": {},
       "output_type": "pyout",
       "prompt_number": 66,
       "text": [
        "'2015-01-01'"
       ]
      }
     ],
     "prompt_number": 66
    },
    {
     "cell_type": "heading",
     "level": 2,
     "metadata": {},
     "source": [
      "\u6a21\u5757"
     ]
    },
    {
     "cell_type": "markdown",
     "metadata": {},
     "source": [
      "\u5e26\u6709__init__.py\u7684\u6587\u4ef6\u5939\u5c31\u662fpackage\uff0cpackage\u4e2d\u7684\u6bcf\u4e2apy\u6587\u4ef6\u5c31\u662f\u4e00\u4e2a\u6a21\u5757\u3002\u4e0d\u5e26__init__.py\u7684\u6587\u4ef6\u5939\u5c31\u662f\u4e00\u4e2a\u666e\u901a\u6587\u4ef6\u5939\uff0c\u4e0d\u662fpackage\u3002__init__.py\u53ef\u4ee5\u662f\u7a7a\u3002"
     ]
    },
    {
     "cell_type": "code",
     "collapsed": false,
     "input": [
      "class unpack_ad_id(object):\n",
      "    def forward(self, adid, category, dspid, pvid,  *str_keys):\n",
      "        print adid, category, dspid, pvid, str_keys\n",
      "    \n",
      "    def process(self, adids, categories, dsppvs, *keys):\n",
      "        str_keys=tuple(str(k) for k in keys)\n",
      "        if(adids is not None and len(adids)>0 and categories is not None and len(categories)>0):\n",
      "            dsppvs_new = []\n",
      "            adid_list = adids.strip().split(\",\")\n",
      "            cate_list = categories.strip().split(\",\")\n",
      "            if dsppvs is not None:\n",
      "                dsppv_list = dsppvs.strip().split(\",\")\n",
      "            \n",
      "            # dsppvs\u53ef\u80fd\u4e3aNone, \u5c06\u5176\u8bbe\u4e3a['-99:'] * len(adid_list)\n",
      "            if dsppvs is None:\n",
      "                dsppvs_new = ['-99:'] * len(adid_list)\n",
      "            # dsppvs\u53ef\u80fd\u53ea\u6709\u4e00\u9879\uff0c\u62d3\u5c55\u5230len(adid_list)\n",
      "            elif len(dsppv_list) == 1:\n",
      "                dsppvs_new = dsppv_list * len(adid_list)\n",
      "            elif len(dsppv_list) == len(adid_list):\n",
      "                dsppvs_new = dsppv_list\n",
      "            else:\n",
      "                dsppvs_new = ['-99:'] * len(adid_list)\n",
      "            print dsppvs_new\n",
      "            for adid, cate, dsppv in zip(adid_list, cate_list, dsppvs_new):\n",
      "                if cate is not None and cate.isdigit() and len(dsppv.strip().split(':'))>0:\n",
      "                    self.forward(adid, cate, dsppv.strip().split(':')[0], dsppv.strip().split(':')[1],  *str_keys) \n",
      "                else:\n",
      "                    self.forward(adid, \"-99\", \"-99\", None, *str_keys) \n",
      "        else:\n",
      "            self.forward(\"-99\", \"-99\", \"-99\", None, *str_keys)"
     ],
     "language": "python",
     "metadata": {},
     "outputs": [],
     "prompt_number": 84
    },
    {
     "cell_type": "code",
     "collapsed": false,
     "input": [
      "up = unpack_ad_id()\n",
      "adids = 'ItemJump19981445594,ItemJump42985305209'\n",
      "categories = '16,16'\n",
      "dsppvs = None\n",
      "print up.process(adids, categories, dsppvs)"
     ],
     "language": "python",
     "metadata": {},
     "outputs": [
      {
       "output_type": "stream",
       "stream": "stdout",
       "text": [
        "['-99:', '-99:']\n",
        "ItemJump19981445594 16 -99  ()\n",
        "ItemJump42985305209 16 -99  ()\n",
        "None\n"
       ]
      }
     ],
     "prompt_number": 87
    },
    {
     "cell_type": "code",
     "collapsed": false,
     "input": [
      "#coding:utf-8\n",
      "import json\n",
      "import re\n",
      "\n",
      "class PackKeyValueToJson(object):\n",
      "\n",
      "    def evaluate(self,*args):\n",
      "        ad_kv = {} \n",
      "        if args is None:\n",
      "            return None\n",
      "        if len(args)%2 == 1:\n",
      "            return None\n",
      "        for i in range(len(args)/2):\n",
      "            ad_kv[args[2*i]] = args[2*i+1]\n",
      "        return json.dumps(ad_kv)\n"
     ],
     "language": "python",
     "metadata": {},
     "outputs": [],
     "prompt_number": 94
    },
    {
     "cell_type": "code",
     "collapsed": false,
     "input": [
      "t = PackKeyValueToJson()\n",
      "print t.evaluate('acookie', '2222', 'f_click', 10000)"
     ],
     "language": "python",
     "metadata": {},
     "outputs": [
      {
       "output_type": "stream",
       "stream": "stdout",
       "text": [
        "{\"acookie\": \"2222\", \"f_click\": 10000}\n"
       ]
      }
     ],
     "prompt_number": 96
    },
    {
     "cell_type": "code",
     "collapsed": false,
     "input": [
      "f = json.loads('{\"acookie\": \"2222\", \"f_click\": 10000}')"
     ],
     "language": "python",
     "metadata": {},
     "outputs": [],
     "prompt_number": 98
    },
    {
     "cell_type": "code",
     "collapsed": false,
     "input": [
      "print f"
     ],
     "language": "python",
     "metadata": {},
     "outputs": [
      {
       "output_type": "stream",
       "stream": "stdout",
       "text": [
        "{u'acookie': u'2222', u'f_click': 10000}\n"
       ]
      }
     ],
     "prompt_number": 99
    },
    {
     "cell_type": "code",
     "collapsed": false,
     "input": [
      "float(f['acookie'])"
     ],
     "language": "python",
     "metadata": {},
     "outputs": [
      {
       "metadata": {},
       "output_type": "pyout",
       "prompt_number": 103,
       "text": [
        "2222.0"
       ]
      }
     ],
     "prompt_number": 103
    },
    {
     "cell_type": "code",
     "collapsed": false,
     "input": [
      "print f.get('kk')"
     ],
     "language": "python",
     "metadata": {},
     "outputs": [
      {
       "output_type": "stream",
       "stream": "stdout",
       "text": [
        "None\n"
       ]
      }
     ],
     "prompt_number": 106
    },
    {
     "cell_type": "code",
     "collapsed": false,
     "input": [
      "try:\n",
      "    a = float(None)\n",
      "except:\n",
      "    a=0\n",
      "print a"
     ],
     "language": "python",
     "metadata": {},
     "outputs": [
      {
       "output_type": "stream",
       "stream": "stdout",
       "text": [
        "0\n"
       ]
      }
     ],
     "prompt_number": 111
    },
    {
     "cell_type": "code",
     "collapsed": false,
     "input": [
      "class unpack_ad_id_ex(object):\n",
      "    def forward(self, adid, category, dspid, pvid,  *str_keys):\n",
      "        print adid, category, dspid, pvid, str_keys\n",
      "    \n",
      "    def process(self, adids, categories, dsppvs, *keys):\n",
      "        str_keys=tuple(str(k) for k in keys)\n",
      "        if(adids is not None and len(adids)>0 and categories is not None and len(categories)>0):\n",
      "            dsppvs_new = []\n",
      "            adid_list = adids.strip().split(\",\")\n",
      "            cate_list = categories.strip().split(\",\")\n",
      "            \n",
      "            dsppv_kv = {}\n",
      "            for item in dsppvs.strip().split(\",\"):\n",
      "                dsppv_kv[item.strip().split(':')[0]]=item.strip().split(':')[1]\n",
      "            \n",
      "            for adid, cate in zip(adid_list, cate_list):\n",
      "                if cate is not None and cate.isdigit():\n",
      "                    self.forward(adid, cate, cate, dsppv_kv[cate],  *str_keys) \n",
      "                else:\n",
      "                    self.forward(adid, \"-99\", \"-99\", None, *str_keys) \n",
      "        else:\n",
      "            self.forward(\"-99\", \"-99\", \"-99\", None, *str_keys)"
     ],
     "language": "python",
     "metadata": {},
     "outputs": [],
     "prompt_number": 4
    },
    {
     "cell_type": "code",
     "collapsed": false,
     "input": [
      "up = unpack_ad_id_ex()\n",
      "adids = 'ItemJump19981445594,ItemJump42985305209'\n",
      "categories = '16,16'\n",
      "dsppvs = '16:abc,19:efg'\n",
      "print up.process(adids, categories, dsppvs)"
     ],
     "language": "python",
     "metadata": {},
     "outputs": [
      {
       "output_type": "stream",
       "stream": "stdout",
       "text": [
        "ItemJump19981445594 16 16 abc ()\n",
        "ItemJump42985305209 16 16 abc ()\n",
        "None\n"
       ]
      }
     ],
     "prompt_number": 5
    },
    {
     "cell_type": "code",
     "collapsed": false,
     "input": [],
     "language": "python",
     "metadata": {},
     "outputs": []
    }
   ],
   "metadata": {}
  }
 ]
}